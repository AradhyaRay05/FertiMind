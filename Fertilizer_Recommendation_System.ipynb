{
  "cells": [
    {
      "cell_type": "code",
      "execution_count": 1,
      "id": "9e6d8aae",
      "metadata": {
        "id": "9e6d8aae"
      },
      "outputs": [],
      "source": [
        "# Fertilizer Recommendation System\n",
        "\n",
        "import numpy as np\n",
        "import pandas as pd\n",
        "import matplotlib.pyplot as plt\n",
        "import seaborn as sns\n",
        "from sklearn.preprocessing import LabelEncoder, StandardScaler\n",
        "from sklearn.model_selection import train_test_split\n",
        "from sklearn.tree import DecisionTreeClassifier"
      ]
    },
    {
      "cell_type": "code",
      "execution_count": null,
      "id": "fd688cf0",
      "metadata": {
        "colab": {
          "base_uri": "https://localhost:8080/",
          "height": 441
        },
        "id": "fd688cf0",
        "outputId": "fcdc2719-0b0f-4df2-b16d-333791be5031"
      },
      "outputs": [
        {
          "data": {
            "application/vnd.microsoft.datawrangler.viewer.v0+json": {
              "columns": [
                {
                  "name": "index",
                  "rawType": "int64",
                  "type": "integer"
                },
                {
                  "name": "Temparature",
                  "rawType": "int64",
                  "type": "integer"
                },
                {
                  "name": "Humidity ",
                  "rawType": "int64",
                  "type": "integer"
                },
                {
                  "name": "Moisture",
                  "rawType": "int64",
                  "type": "integer"
                },
                {
                  "name": "Soil Type",
                  "rawType": "object",
                  "type": "string"
                },
                {
                  "name": "Crop Type",
                  "rawType": "object",
                  "type": "string"
                },
                {
                  "name": "Nitrogen",
                  "rawType": "int64",
                  "type": "integer"
                },
                {
                  "name": "Potassium",
                  "rawType": "int64",
                  "type": "integer"
                },
                {
                  "name": "Phosphorous",
                  "rawType": "int64",
                  "type": "integer"
                },
                {
                  "name": "Fertilizer Name",
                  "rawType": "object",
                  "type": "string"
                }
              ],
              "ref": "b853a082-24f2-4537-bb9c-04df4c1e7ab4",
              "rows": [
                [
                  "0",
                  "26",
                  "52",
                  "38",
                  "Sandy",
                  "Maize",
                  "37",
                  "0",
                  "0",
                  "Urea"
                ],
                [
                  "1",
                  "29",
                  "52",
                  "45",
                  "Loamy",
                  "Sugarcane",
                  "12",
                  "0",
                  "36",
                  "DAP"
                ],
                [
                  "2",
                  "34",
                  "65",
                  "62",
                  "Black",
                  "Cotton",
                  "7",
                  "9",
                  "30",
                  "14-35-14"
                ],
                [
                  "3",
                  "32",
                  "62",
                  "34",
                  "Red",
                  "Tobacco",
                  "22",
                  "0",
                  "20",
                  "28-28"
                ],
                [
                  "4",
                  "28",
                  "54",
                  "46",
                  "Clayey",
                  "Paddy",
                  "35",
                  "0",
                  "0",
                  "Urea"
                ],
                [
                  "5",
                  "26",
                  "52",
                  "35",
                  "Sandy",
                  "Barley",
                  "12",
                  "10",
                  "13",
                  "17-17-17"
                ],
                [
                  "6",
                  "25",
                  "50",
                  "64",
                  "Red",
                  "Cotton",
                  "9",
                  "0",
                  "10",
                  "20-20"
                ],
                [
                  "7",
                  "33",
                  "64",
                  "50",
                  "Loamy",
                  "Wheat",
                  "41",
                  "0",
                  "0",
                  "Urea"
                ],
                [
                  "8",
                  "30",
                  "60",
                  "42",
                  "Sandy",
                  "Millets",
                  "21",
                  "0",
                  "18",
                  "28-28"
                ],
                [
                  "9",
                  "29",
                  "58",
                  "33",
                  "Black",
                  "Oil seeds",
                  "9",
                  "7",
                  "30",
                  "14-35-14"
                ],
                [
                  "10",
                  "27",
                  "54",
                  "28",
                  "Clayey",
                  "Pulses",
                  "13",
                  "0",
                  "40",
                  "DAP"
                ],
                [
                  "11",
                  "31",
                  "62",
                  "48",
                  "Sandy",
                  "Maize",
                  "14",
                  "15",
                  "12",
                  "17-17-17"
                ],
                [
                  "12",
                  "25",
                  "50",
                  "65",
                  "Loamy",
                  "Cotton",
                  "36",
                  "0",
                  "0",
                  "Urea"
                ],
                [
                  "13",
                  "32",
                  "62",
                  "41",
                  "Clayey",
                  "Paddy",
                  "24",
                  "0",
                  "22",
                  "28-28"
                ],
                [
                  "14",
                  "26",
                  "52",
                  "31",
                  "Red",
                  "Ground Nuts",
                  "14",
                  "0",
                  "41",
                  "DAP"
                ],
                [
                  "15",
                  "31",
                  "62",
                  "49",
                  "Black",
                  "Sugarcane",
                  "10",
                  "13",
                  "14",
                  "17-17-17"
                ],
                [
                  "16",
                  "33",
                  "64",
                  "34",
                  "Clayey",
                  "Pulses",
                  "38",
                  "0",
                  "0",
                  "Urea"
                ],
                [
                  "17",
                  "25",
                  "50",
                  "39",
                  "Sandy",
                  "Barley",
                  "21",
                  "0",
                  "19",
                  "28-28"
                ],
                [
                  "18",
                  "28",
                  "54",
                  "65",
                  "Black",
                  "Cotton",
                  "39",
                  "0",
                  "0",
                  "Urea"
                ],
                [
                  "19",
                  "29",
                  "58",
                  "52",
                  "Loamy",
                  "Wheat",
                  "13",
                  "0",
                  "36",
                  "DAP"
                ],
                [
                  "20",
                  "30",
                  "60",
                  "44",
                  "Sandy",
                  "Millets",
                  "10",
                  "0",
                  "9",
                  "20-20"
                ],
                [
                  "21",
                  "34",
                  "65",
                  "53",
                  "Loamy",
                  "Sugarcane",
                  "12",
                  "14",
                  "12",
                  "17-17-17"
                ],
                [
                  "22",
                  "35",
                  "68",
                  "33",
                  "Red",
                  "Tobacco",
                  "11",
                  "0",
                  "37",
                  "DAP"
                ],
                [
                  "23",
                  "28",
                  "54",
                  "37",
                  "Black",
                  "Millets",
                  "36",
                  "0",
                  "0",
                  "Urea"
                ],
                [
                  "24",
                  "33",
                  "64",
                  "39",
                  "Clayey",
                  "Paddy",
                  "13",
                  "0",
                  "10",
                  "20-20"
                ],
                [
                  "25",
                  "26",
                  "52",
                  "44",
                  "Sandy",
                  "Maize",
                  "23",
                  "0",
                  "20",
                  "28-28"
                ],
                [
                  "26",
                  "30",
                  "60",
                  "63",
                  "Red",
                  "Cotton",
                  "9",
                  "9",
                  "29",
                  "14-35-14"
                ],
                [
                  "27",
                  "32",
                  "62",
                  "30",
                  "Loamy",
                  "Sugarcane",
                  "38",
                  "0",
                  "0",
                  "Urea"
                ],
                [
                  "28",
                  "37",
                  "70",
                  "32",
                  "Black",
                  "Oil seeds",
                  "12",
                  "0",
                  "39",
                  "DAP"
                ],
                [
                  "29",
                  "26",
                  "52",
                  "36",
                  "Clayey",
                  "Pulses",
                  "14",
                  "0",
                  "13",
                  "20-20"
                ],
                [
                  "30",
                  "29",
                  "58",
                  "40",
                  "Red",
                  "Ground Nuts",
                  "24",
                  "0",
                  "23",
                  "28-28"
                ],
                [
                  "31",
                  "30",
                  "60",
                  "27",
                  "Loamy",
                  "Sugarcane",
                  "12",
                  "0",
                  "40",
                  "DAP"
                ],
                [
                  "32",
                  "34",
                  "65",
                  "38",
                  "Clayey",
                  "Paddy",
                  "39",
                  "0",
                  "0",
                  "Urea"
                ],
                [
                  "33",
                  "36",
                  "68",
                  "38",
                  "Sandy",
                  "Barley",
                  "7",
                  "9",
                  "30",
                  "14-35-14"
                ],
                [
                  "34",
                  "26",
                  "52",
                  "48",
                  "Loamy",
                  "Wheat",
                  "23",
                  "0",
                  "19",
                  "28-28"
                ],
                [
                  "35",
                  "28",
                  "54",
                  "35",
                  "Black",
                  "Millets",
                  "41",
                  "0",
                  "0",
                  "Urea"
                ],
                [
                  "36",
                  "30",
                  "60",
                  "61",
                  "Loamy",
                  "Cotton",
                  "8",
                  "10",
                  "31",
                  "14-35-14"
                ],
                [
                  "37",
                  "37",
                  "70",
                  "37",
                  "Clayey",
                  "Paddy",
                  "12",
                  "0",
                  "41",
                  "DAP"
                ],
                [
                  "38",
                  "25",
                  "50",
                  "26",
                  "Red",
                  "Ground Nuts",
                  "15",
                  "14",
                  "11",
                  "17-17-17"
                ],
                [
                  "39",
                  "29",
                  "58",
                  "34",
                  "Sandy",
                  "Millets",
                  "15",
                  "0",
                  "37",
                  "DAP"
                ],
                [
                  "40",
                  "27",
                  "54",
                  "30",
                  "Clayey",
                  "Pulses",
                  "13",
                  "0",
                  "13",
                  "20-20"
                ],
                [
                  "41",
                  "30",
                  "60",
                  "58",
                  "Loamy",
                  "Sugarcane",
                  "10",
                  "7",
                  "32",
                  "14-35-14"
                ],
                [
                  "42",
                  "32",
                  "62",
                  "34",
                  "Red",
                  "Tobacco",
                  "22",
                  "0",
                  "24",
                  "28-28"
                ],
                [
                  "43",
                  "34",
                  "65",
                  "60",
                  "Black",
                  "Sugarcane",
                  "35",
                  "0",
                  "0",
                  "Urea"
                ],
                [
                  "44",
                  "35",
                  "67",
                  "42",
                  "Sandy",
                  "Barley",
                  "10",
                  "0",
                  "35",
                  "DAP"
                ],
                [
                  "45",
                  "38",
                  "70",
                  "48",
                  "Loamy",
                  "Wheat",
                  "8",
                  "8",
                  "28",
                  "14-35-14"
                ],
                [
                  "46",
                  "26",
                  "52",
                  "32",
                  "Black",
                  "Oil seeds",
                  "12",
                  "0",
                  "8",
                  "20-20"
                ],
                [
                  "47",
                  "29",
                  "58",
                  "43",
                  "Clayey",
                  "Paddy",
                  "24",
                  "0",
                  "18",
                  "28-28"
                ],
                [
                  "48",
                  "30",
                  "60",
                  "29",
                  "Red",
                  "Ground Nuts",
                  "41",
                  "0",
                  "0",
                  "Urea"
                ],
                [
                  "49",
                  "33",
                  "64",
                  "51",
                  "Sandy",
                  "Maize",
                  "5",
                  "9",
                  "29",
                  "14-35-14"
                ]
              ],
              "shape": {
                "columns": 9,
                "rows": 99
              }
            },
            "text/html": [
              "<div>\n",
              "<style scoped>\n",
              "    .dataframe tbody tr th:only-of-type {\n",
              "        vertical-align: middle;\n",
              "    }\n",
              "\n",
              "    .dataframe tbody tr th {\n",
              "        vertical-align: top;\n",
              "    }\n",
              "\n",
              "    .dataframe thead th {\n",
              "        text-align: right;\n",
              "    }\n",
              "</style>\n",
              "<table border=\"1\" class=\"dataframe\">\n",
              "  <thead>\n",
              "    <tr style=\"text-align: right;\">\n",
              "      <th></th>\n",
              "      <th>Temparature</th>\n",
              "      <th>Humidity</th>\n",
              "      <th>Moisture</th>\n",
              "      <th>Soil Type</th>\n",
              "      <th>Crop Type</th>\n",
              "      <th>Nitrogen</th>\n",
              "      <th>Potassium</th>\n",
              "      <th>Phosphorous</th>\n",
              "      <th>Fertilizer Name</th>\n",
              "    </tr>\n",
              "  </thead>\n",
              "  <tbody>\n",
              "    <tr>\n",
              "      <th>0</th>\n",
              "      <td>26</td>\n",
              "      <td>52</td>\n",
              "      <td>38</td>\n",
              "      <td>Sandy</td>\n",
              "      <td>Maize</td>\n",
              "      <td>37</td>\n",
              "      <td>0</td>\n",
              "      <td>0</td>\n",
              "      <td>Urea</td>\n",
              "    </tr>\n",
              "    <tr>\n",
              "      <th>1</th>\n",
              "      <td>29</td>\n",
              "      <td>52</td>\n",
              "      <td>45</td>\n",
              "      <td>Loamy</td>\n",
              "      <td>Sugarcane</td>\n",
              "      <td>12</td>\n",
              "      <td>0</td>\n",
              "      <td>36</td>\n",
              "      <td>DAP</td>\n",
              "    </tr>\n",
              "    <tr>\n",
              "      <th>2</th>\n",
              "      <td>34</td>\n",
              "      <td>65</td>\n",
              "      <td>62</td>\n",
              "      <td>Black</td>\n",
              "      <td>Cotton</td>\n",
              "      <td>7</td>\n",
              "      <td>9</td>\n",
              "      <td>30</td>\n",
              "      <td>14-35-14</td>\n",
              "    </tr>\n",
              "    <tr>\n",
              "      <th>3</th>\n",
              "      <td>32</td>\n",
              "      <td>62</td>\n",
              "      <td>34</td>\n",
              "      <td>Red</td>\n",
              "      <td>Tobacco</td>\n",
              "      <td>22</td>\n",
              "      <td>0</td>\n",
              "      <td>20</td>\n",
              "      <td>28-28</td>\n",
              "    </tr>\n",
              "    <tr>\n",
              "      <th>4</th>\n",
              "      <td>28</td>\n",
              "      <td>54</td>\n",
              "      <td>46</td>\n",
              "      <td>Clayey</td>\n",
              "      <td>Paddy</td>\n",
              "      <td>35</td>\n",
              "      <td>0</td>\n",
              "      <td>0</td>\n",
              "      <td>Urea</td>\n",
              "    </tr>\n",
              "    <tr>\n",
              "      <th>...</th>\n",
              "      <td>...</td>\n",
              "      <td>...</td>\n",
              "      <td>...</td>\n",
              "      <td>...</td>\n",
              "      <td>...</td>\n",
              "      <td>...</td>\n",
              "      <td>...</td>\n",
              "      <td>...</td>\n",
              "      <td>...</td>\n",
              "    </tr>\n",
              "    <tr>\n",
              "      <th>94</th>\n",
              "      <td>25</td>\n",
              "      <td>50</td>\n",
              "      <td>32</td>\n",
              "      <td>Clayey</td>\n",
              "      <td>Pulses</td>\n",
              "      <td>24</td>\n",
              "      <td>0</td>\n",
              "      <td>19</td>\n",
              "      <td>28-28</td>\n",
              "    </tr>\n",
              "    <tr>\n",
              "      <th>95</th>\n",
              "      <td>30</td>\n",
              "      <td>60</td>\n",
              "      <td>27</td>\n",
              "      <td>Red</td>\n",
              "      <td>Tobacco</td>\n",
              "      <td>4</td>\n",
              "      <td>17</td>\n",
              "      <td>17</td>\n",
              "      <td>10-26-26</td>\n",
              "    </tr>\n",
              "    <tr>\n",
              "      <th>96</th>\n",
              "      <td>38</td>\n",
              "      <td>72</td>\n",
              "      <td>51</td>\n",
              "      <td>Loamy</td>\n",
              "      <td>Wheat</td>\n",
              "      <td>39</td>\n",
              "      <td>0</td>\n",
              "      <td>0</td>\n",
              "      <td>Urea</td>\n",
              "    </tr>\n",
              "    <tr>\n",
              "      <th>97</th>\n",
              "      <td>36</td>\n",
              "      <td>60</td>\n",
              "      <td>43</td>\n",
              "      <td>Sandy</td>\n",
              "      <td>Millets</td>\n",
              "      <td>15</td>\n",
              "      <td>0</td>\n",
              "      <td>41</td>\n",
              "      <td>DAP</td>\n",
              "    </tr>\n",
              "    <tr>\n",
              "      <th>98</th>\n",
              "      <td>29</td>\n",
              "      <td>58</td>\n",
              "      <td>57</td>\n",
              "      <td>Black</td>\n",
              "      <td>Sugarcane</td>\n",
              "      <td>12</td>\n",
              "      <td>0</td>\n",
              "      <td>10</td>\n",
              "      <td>20-20</td>\n",
              "    </tr>\n",
              "  </tbody>\n",
              "</table>\n",
              "<p>99 rows × 9 columns</p>\n",
              "</div>"
            ],
            "text/plain": [
              "    Temparature  Humidity   Moisture Soil Type  Crop Type  Nitrogen  \\\n",
              "0            26         52        38     Sandy      Maize        37   \n",
              "1            29         52        45     Loamy  Sugarcane        12   \n",
              "2            34         65        62     Black     Cotton         7   \n",
              "3            32         62        34       Red    Tobacco        22   \n",
              "4            28         54        46    Clayey      Paddy        35   \n",
              "..          ...        ...       ...       ...        ...       ...   \n",
              "94           25         50        32    Clayey     Pulses        24   \n",
              "95           30         60        27       Red    Tobacco         4   \n",
              "96           38         72        51     Loamy      Wheat        39   \n",
              "97           36         60        43     Sandy    Millets        15   \n",
              "98           29         58        57     Black  Sugarcane        12   \n",
              "\n",
              "    Potassium  Phosphorous Fertilizer Name  \n",
              "0           0            0            Urea  \n",
              "1           0           36             DAP  \n",
              "2           9           30        14-35-14  \n",
              "3           0           20           28-28  \n",
              "4           0            0            Urea  \n",
              "..        ...          ...             ...  \n",
              "94          0           19           28-28  \n",
              "95         17           17        10-26-26  \n",
              "96          0            0            Urea  \n",
              "97          0           41             DAP  \n",
              "98          0           10           20-20  \n",
              "\n",
              "[99 rows x 9 columns]"
            ]
          },
          "execution_count": 2,
          "metadata": {},
          "output_type": "execute_result"
        }
      ],
      "source": [
        "fert = pd.read_csv('Fertilizer Prediction.csv')\n",
        "fert"
      ]
    },
    {
      "cell_type": "code",
      "execution_count": 3,
      "id": "20ce2f57",
      "metadata": {
        "colab": {
          "base_uri": "https://localhost:8080/"
        },
        "id": "20ce2f57",
        "outputId": "8e369da2-30fb-421d-b4ba-1c59651bc535"
      },
      "outputs": [
        {
          "data": {
            "text/plain": [
              "(99, 9)"
            ]
          },
          "execution_count": 3,
          "metadata": {},
          "output_type": "execute_result"
        }
      ],
      "source": [
        "fert.shape"
      ]
    },
    {
      "cell_type": "code",
      "execution_count": 4,
      "id": "87d6eaf5",
      "metadata": {
        "colab": {
          "base_uri": "https://localhost:8080/"
        },
        "id": "87d6eaf5",
        "outputId": "10ceee0b-f6e5-49d9-a795-d2098048908d"
      },
      "outputs": [
        {
          "name": "stdout",
          "output_type": "stream",
          "text": [
            "<class 'pandas.core.frame.DataFrame'>\n",
            "RangeIndex: 99 entries, 0 to 98\n",
            "Data columns (total 9 columns):\n",
            " #   Column           Non-Null Count  Dtype \n",
            "---  ------           --------------  ----- \n",
            " 0   Temparature      99 non-null     int64 \n",
            " 1   Humidity         99 non-null     int64 \n",
            " 2   Moisture         99 non-null     int64 \n",
            " 3   Soil Type        99 non-null     object\n",
            " 4   Crop Type        99 non-null     object\n",
            " 5   Nitrogen         99 non-null     int64 \n",
            " 6   Potassium        99 non-null     int64 \n",
            " 7   Phosphorous      99 non-null     int64 \n",
            " 8   Fertilizer Name  99 non-null     object\n",
            "dtypes: int64(6), object(3)\n",
            "memory usage: 7.1+ KB\n"
          ]
        }
      ],
      "source": [
        "fert.info()"
      ]
    },
    {
      "cell_type": "code",
      "execution_count": 5,
      "id": "556e2c0d",
      "metadata": {
        "colab": {
          "base_uri": "https://localhost:8080/",
          "height": 366
        },
        "id": "556e2c0d",
        "outputId": "059bce8d-d0b9-4102-fb9c-4354ca0b4198"
      },
      "outputs": [
        {
          "data": {
            "application/vnd.microsoft.datawrangler.viewer.v0+json": {
              "columns": [
                {
                  "name": "index",
                  "rawType": "object",
                  "type": "string"
                },
                {
                  "name": "0",
                  "rawType": "int64",
                  "type": "integer"
                }
              ],
              "ref": "032a29c9-4b27-4ab4-95eb-560c8ae5ead6",
              "rows": [
                [
                  "Temparature",
                  "0"
                ],
                [
                  "Humidity ",
                  "0"
                ],
                [
                  "Moisture",
                  "0"
                ],
                [
                  "Soil Type",
                  "0"
                ],
                [
                  "Crop Type",
                  "0"
                ],
                [
                  "Nitrogen",
                  "0"
                ],
                [
                  "Potassium",
                  "0"
                ],
                [
                  "Phosphorous",
                  "0"
                ],
                [
                  "Fertilizer Name",
                  "0"
                ]
              ],
              "shape": {
                "columns": 1,
                "rows": 9
              }
            },
            "text/plain": [
              "Temparature        0\n",
              "Humidity           0\n",
              "Moisture           0\n",
              "Soil Type          0\n",
              "Crop Type          0\n",
              "Nitrogen           0\n",
              "Potassium          0\n",
              "Phosphorous        0\n",
              "Fertilizer Name    0\n",
              "dtype: int64"
            ]
          },
          "execution_count": 5,
          "metadata": {},
          "output_type": "execute_result"
        }
      ],
      "source": [
        "fert.isnull().sum()"
      ]
    },
    {
      "cell_type": "code",
      "execution_count": 6,
      "id": "2cc7963b",
      "metadata": {
        "colab": {
          "base_uri": "https://localhost:8080/"
        },
        "id": "2cc7963b",
        "outputId": "41197cd8-536a-4249-b651-ced3a09c5df4"
      },
      "outputs": [
        {
          "data": {
            "text/plain": [
              "np.int64(0)"
            ]
          },
          "execution_count": 6,
          "metadata": {},
          "output_type": "execute_result"
        }
      ],
      "source": [
        "fert.duplicated().sum()"
      ]
    },
    {
      "cell_type": "code",
      "execution_count": 7,
      "id": "a8c77332",
      "metadata": {
        "colab": {
          "base_uri": "https://localhost:8080/",
          "height": 300
        },
        "id": "a8c77332",
        "outputId": "13daca46-27be-48e9-cc9a-5bcda48ff64f"
      },
      "outputs": [
        {
          "data": {
            "application/vnd.microsoft.datawrangler.viewer.v0+json": {
              "columns": [
                {
                  "name": "index",
                  "rawType": "object",
                  "type": "string"
                },
                {
                  "name": "Temparature",
                  "rawType": "float64",
                  "type": "float"
                },
                {
                  "name": "Humidity ",
                  "rawType": "float64",
                  "type": "float"
                },
                {
                  "name": "Moisture",
                  "rawType": "float64",
                  "type": "float"
                },
                {
                  "name": "Nitrogen",
                  "rawType": "float64",
                  "type": "float"
                },
                {
                  "name": "Potassium",
                  "rawType": "float64",
                  "type": "float"
                },
                {
                  "name": "Phosphorous",
                  "rawType": "float64",
                  "type": "float"
                }
              ],
              "ref": "bc7c0abf-714c-4dd8-b1a4-7a70e7988be5",
              "rows": [
                [
                  "count",
                  "99.0",
                  "99.0",
                  "99.0",
                  "99.0",
                  "99.0",
                  "99.0"
                ],
                [
                  "mean",
                  "30.282828282828284",
                  "59.15151515151515",
                  "43.18181818181818",
                  "18.90909090909091",
                  "3.3838383838383836",
                  "18.606060606060606"
                ],
                [
                  "std",
                  "3.502303626857917",
                  "5.840330638466013",
                  "11.271567658352094",
                  "11.599692913854781",
                  "5.814666661277922",
                  "13.476978240172585"
                ],
                [
                  "min",
                  "25.0",
                  "50.0",
                  "25.0",
                  "4.0",
                  "0.0",
                  "0.0"
                ],
                [
                  "25%",
                  "28.0",
                  "54.0",
                  "34.0",
                  "10.0",
                  "0.0",
                  "9.0"
                ],
                [
                  "50%",
                  "30.0",
                  "60.0",
                  "41.0",
                  "13.0",
                  "0.0",
                  "19.0"
                ],
                [
                  "75%",
                  "33.0",
                  "64.0",
                  "50.5",
                  "24.0",
                  "7.5",
                  "30.0"
                ],
                [
                  "max",
                  "38.0",
                  "72.0",
                  "65.0",
                  "42.0",
                  "19.0",
                  "42.0"
                ]
              ],
              "shape": {
                "columns": 6,
                "rows": 8
              }
            },
            "text/html": [
              "<div>\n",
              "<style scoped>\n",
              "    .dataframe tbody tr th:only-of-type {\n",
              "        vertical-align: middle;\n",
              "    }\n",
              "\n",
              "    .dataframe tbody tr th {\n",
              "        vertical-align: top;\n",
              "    }\n",
              "\n",
              "    .dataframe thead th {\n",
              "        text-align: right;\n",
              "    }\n",
              "</style>\n",
              "<table border=\"1\" class=\"dataframe\">\n",
              "  <thead>\n",
              "    <tr style=\"text-align: right;\">\n",
              "      <th></th>\n",
              "      <th>Temparature</th>\n",
              "      <th>Humidity</th>\n",
              "      <th>Moisture</th>\n",
              "      <th>Nitrogen</th>\n",
              "      <th>Potassium</th>\n",
              "      <th>Phosphorous</th>\n",
              "    </tr>\n",
              "  </thead>\n",
              "  <tbody>\n",
              "    <tr>\n",
              "      <th>count</th>\n",
              "      <td>99.000000</td>\n",
              "      <td>99.000000</td>\n",
              "      <td>99.000000</td>\n",
              "      <td>99.000000</td>\n",
              "      <td>99.000000</td>\n",
              "      <td>99.000000</td>\n",
              "    </tr>\n",
              "    <tr>\n",
              "      <th>mean</th>\n",
              "      <td>30.282828</td>\n",
              "      <td>59.151515</td>\n",
              "      <td>43.181818</td>\n",
              "      <td>18.909091</td>\n",
              "      <td>3.383838</td>\n",
              "      <td>18.606061</td>\n",
              "    </tr>\n",
              "    <tr>\n",
              "      <th>std</th>\n",
              "      <td>3.502304</td>\n",
              "      <td>5.840331</td>\n",
              "      <td>11.271568</td>\n",
              "      <td>11.599693</td>\n",
              "      <td>5.814667</td>\n",
              "      <td>13.476978</td>\n",
              "    </tr>\n",
              "    <tr>\n",
              "      <th>min</th>\n",
              "      <td>25.000000</td>\n",
              "      <td>50.000000</td>\n",
              "      <td>25.000000</td>\n",
              "      <td>4.000000</td>\n",
              "      <td>0.000000</td>\n",
              "      <td>0.000000</td>\n",
              "    </tr>\n",
              "    <tr>\n",
              "      <th>25%</th>\n",
              "      <td>28.000000</td>\n",
              "      <td>54.000000</td>\n",
              "      <td>34.000000</td>\n",
              "      <td>10.000000</td>\n",
              "      <td>0.000000</td>\n",
              "      <td>9.000000</td>\n",
              "    </tr>\n",
              "    <tr>\n",
              "      <th>50%</th>\n",
              "      <td>30.000000</td>\n",
              "      <td>60.000000</td>\n",
              "      <td>41.000000</td>\n",
              "      <td>13.000000</td>\n",
              "      <td>0.000000</td>\n",
              "      <td>19.000000</td>\n",
              "    </tr>\n",
              "    <tr>\n",
              "      <th>75%</th>\n",
              "      <td>33.000000</td>\n",
              "      <td>64.000000</td>\n",
              "      <td>50.500000</td>\n",
              "      <td>24.000000</td>\n",
              "      <td>7.500000</td>\n",
              "      <td>30.000000</td>\n",
              "    </tr>\n",
              "    <tr>\n",
              "      <th>max</th>\n",
              "      <td>38.000000</td>\n",
              "      <td>72.000000</td>\n",
              "      <td>65.000000</td>\n",
              "      <td>42.000000</td>\n",
              "      <td>19.000000</td>\n",
              "      <td>42.000000</td>\n",
              "    </tr>\n",
              "  </tbody>\n",
              "</table>\n",
              "</div>"
            ],
            "text/plain": [
              "       Temparature  Humidity    Moisture   Nitrogen  Potassium  Phosphorous\n",
              "count    99.000000  99.000000  99.000000  99.000000  99.000000    99.000000\n",
              "mean     30.282828  59.151515  43.181818  18.909091   3.383838    18.606061\n",
              "std       3.502304   5.840331  11.271568  11.599693   5.814667    13.476978\n",
              "min      25.000000  50.000000  25.000000   4.000000   0.000000     0.000000\n",
              "25%      28.000000  54.000000  34.000000  10.000000   0.000000     9.000000\n",
              "50%      30.000000  60.000000  41.000000  13.000000   0.000000    19.000000\n",
              "75%      33.000000  64.000000  50.500000  24.000000   7.500000    30.000000\n",
              "max      38.000000  72.000000  65.000000  42.000000  19.000000    42.000000"
            ]
          },
          "execution_count": 7,
          "metadata": {},
          "output_type": "execute_result"
        }
      ],
      "source": [
        "fert.describe()"
      ]
    },
    {
      "cell_type": "code",
      "execution_count": 8,
      "id": "ce68ed6a",
      "metadata": {
        "colab": {
          "base_uri": "https://localhost:8080/",
          "height": 423
        },
        "id": "ce68ed6a",
        "outputId": "ecd8a2a3-45f3-4cf6-a6ee-1a6ef4f52c17"
      },
      "outputs": [
        {
          "data": {
            "application/vnd.microsoft.datawrangler.viewer.v0+json": {
              "columns": [
                {
                  "name": "index",
                  "rawType": "int64",
                  "type": "integer"
                },
                {
                  "name": "Temparature",
                  "rawType": "int64",
                  "type": "integer"
                },
                {
                  "name": "Humidity ",
                  "rawType": "int64",
                  "type": "integer"
                },
                {
                  "name": "Moisture",
                  "rawType": "int64",
                  "type": "integer"
                },
                {
                  "name": "Nitrogen",
                  "rawType": "int64",
                  "type": "integer"
                },
                {
                  "name": "Potassium",
                  "rawType": "int64",
                  "type": "integer"
                },
                {
                  "name": "Phosphorous",
                  "rawType": "int64",
                  "type": "integer"
                }
              ],
              "ref": "b24ead54-7180-450b-82af-1a03500caf26",
              "rows": [
                [
                  "0",
                  "26",
                  "52",
                  "38",
                  "37",
                  "0",
                  "0"
                ],
                [
                  "1",
                  "29",
                  "52",
                  "45",
                  "12",
                  "0",
                  "36"
                ],
                [
                  "2",
                  "34",
                  "65",
                  "62",
                  "7",
                  "9",
                  "30"
                ],
                [
                  "3",
                  "32",
                  "62",
                  "34",
                  "22",
                  "0",
                  "20"
                ],
                [
                  "4",
                  "28",
                  "54",
                  "46",
                  "35",
                  "0",
                  "0"
                ],
                [
                  "5",
                  "26",
                  "52",
                  "35",
                  "12",
                  "10",
                  "13"
                ],
                [
                  "6",
                  "25",
                  "50",
                  "64",
                  "9",
                  "0",
                  "10"
                ],
                [
                  "7",
                  "33",
                  "64",
                  "50",
                  "41",
                  "0",
                  "0"
                ],
                [
                  "8",
                  "30",
                  "60",
                  "42",
                  "21",
                  "0",
                  "18"
                ],
                [
                  "9",
                  "29",
                  "58",
                  "33",
                  "9",
                  "7",
                  "30"
                ],
                [
                  "10",
                  "27",
                  "54",
                  "28",
                  "13",
                  "0",
                  "40"
                ],
                [
                  "11",
                  "31",
                  "62",
                  "48",
                  "14",
                  "15",
                  "12"
                ],
                [
                  "12",
                  "25",
                  "50",
                  "65",
                  "36",
                  "0",
                  "0"
                ],
                [
                  "13",
                  "32",
                  "62",
                  "41",
                  "24",
                  "0",
                  "22"
                ],
                [
                  "14",
                  "26",
                  "52",
                  "31",
                  "14",
                  "0",
                  "41"
                ],
                [
                  "15",
                  "31",
                  "62",
                  "49",
                  "10",
                  "13",
                  "14"
                ],
                [
                  "16",
                  "33",
                  "64",
                  "34",
                  "38",
                  "0",
                  "0"
                ],
                [
                  "17",
                  "25",
                  "50",
                  "39",
                  "21",
                  "0",
                  "19"
                ],
                [
                  "18",
                  "28",
                  "54",
                  "65",
                  "39",
                  "0",
                  "0"
                ],
                [
                  "19",
                  "29",
                  "58",
                  "52",
                  "13",
                  "0",
                  "36"
                ],
                [
                  "20",
                  "30",
                  "60",
                  "44",
                  "10",
                  "0",
                  "9"
                ],
                [
                  "21",
                  "34",
                  "65",
                  "53",
                  "12",
                  "14",
                  "12"
                ],
                [
                  "22",
                  "35",
                  "68",
                  "33",
                  "11",
                  "0",
                  "37"
                ],
                [
                  "23",
                  "28",
                  "54",
                  "37",
                  "36",
                  "0",
                  "0"
                ],
                [
                  "24",
                  "33",
                  "64",
                  "39",
                  "13",
                  "0",
                  "10"
                ],
                [
                  "25",
                  "26",
                  "52",
                  "44",
                  "23",
                  "0",
                  "20"
                ],
                [
                  "26",
                  "30",
                  "60",
                  "63",
                  "9",
                  "9",
                  "29"
                ],
                [
                  "27",
                  "32",
                  "62",
                  "30",
                  "38",
                  "0",
                  "0"
                ],
                [
                  "28",
                  "37",
                  "70",
                  "32",
                  "12",
                  "0",
                  "39"
                ],
                [
                  "29",
                  "26",
                  "52",
                  "36",
                  "14",
                  "0",
                  "13"
                ],
                [
                  "30",
                  "29",
                  "58",
                  "40",
                  "24",
                  "0",
                  "23"
                ],
                [
                  "31",
                  "30",
                  "60",
                  "27",
                  "12",
                  "0",
                  "40"
                ],
                [
                  "32",
                  "34",
                  "65",
                  "38",
                  "39",
                  "0",
                  "0"
                ],
                [
                  "33",
                  "36",
                  "68",
                  "38",
                  "7",
                  "9",
                  "30"
                ],
                [
                  "34",
                  "26",
                  "52",
                  "48",
                  "23",
                  "0",
                  "19"
                ],
                [
                  "35",
                  "28",
                  "54",
                  "35",
                  "41",
                  "0",
                  "0"
                ],
                [
                  "36",
                  "30",
                  "60",
                  "61",
                  "8",
                  "10",
                  "31"
                ],
                [
                  "37",
                  "37",
                  "70",
                  "37",
                  "12",
                  "0",
                  "41"
                ],
                [
                  "38",
                  "25",
                  "50",
                  "26",
                  "15",
                  "14",
                  "11"
                ],
                [
                  "39",
                  "29",
                  "58",
                  "34",
                  "15",
                  "0",
                  "37"
                ],
                [
                  "40",
                  "27",
                  "54",
                  "30",
                  "13",
                  "0",
                  "13"
                ],
                [
                  "41",
                  "30",
                  "60",
                  "58",
                  "10",
                  "7",
                  "32"
                ],
                [
                  "42",
                  "32",
                  "62",
                  "34",
                  "22",
                  "0",
                  "24"
                ],
                [
                  "43",
                  "34",
                  "65",
                  "60",
                  "35",
                  "0",
                  "0"
                ],
                [
                  "44",
                  "35",
                  "67",
                  "42",
                  "10",
                  "0",
                  "35"
                ],
                [
                  "45",
                  "38",
                  "70",
                  "48",
                  "8",
                  "8",
                  "28"
                ],
                [
                  "46",
                  "26",
                  "52",
                  "32",
                  "12",
                  "0",
                  "8"
                ],
                [
                  "47",
                  "29",
                  "58",
                  "43",
                  "24",
                  "0",
                  "18"
                ],
                [
                  "48",
                  "30",
                  "60",
                  "29",
                  "41",
                  "0",
                  "0"
                ],
                [
                  "49",
                  "33",
                  "64",
                  "51",
                  "5",
                  "9",
                  "29"
                ]
              ],
              "shape": {
                "columns": 6,
                "rows": 99
              }
            },
            "text/html": [
              "<div>\n",
              "<style scoped>\n",
              "    .dataframe tbody tr th:only-of-type {\n",
              "        vertical-align: middle;\n",
              "    }\n",
              "\n",
              "    .dataframe tbody tr th {\n",
              "        vertical-align: top;\n",
              "    }\n",
              "\n",
              "    .dataframe thead th {\n",
              "        text-align: right;\n",
              "    }\n",
              "</style>\n",
              "<table border=\"1\" class=\"dataframe\">\n",
              "  <thead>\n",
              "    <tr style=\"text-align: right;\">\n",
              "      <th></th>\n",
              "      <th>Temparature</th>\n",
              "      <th>Humidity</th>\n",
              "      <th>Moisture</th>\n",
              "      <th>Nitrogen</th>\n",
              "      <th>Potassium</th>\n",
              "      <th>Phosphorous</th>\n",
              "    </tr>\n",
              "  </thead>\n",
              "  <tbody>\n",
              "    <tr>\n",
              "      <th>0</th>\n",
              "      <td>26</td>\n",
              "      <td>52</td>\n",
              "      <td>38</td>\n",
              "      <td>37</td>\n",
              "      <td>0</td>\n",
              "      <td>0</td>\n",
              "    </tr>\n",
              "    <tr>\n",
              "      <th>1</th>\n",
              "      <td>29</td>\n",
              "      <td>52</td>\n",
              "      <td>45</td>\n",
              "      <td>12</td>\n",
              "      <td>0</td>\n",
              "      <td>36</td>\n",
              "    </tr>\n",
              "    <tr>\n",
              "      <th>2</th>\n",
              "      <td>34</td>\n",
              "      <td>65</td>\n",
              "      <td>62</td>\n",
              "      <td>7</td>\n",
              "      <td>9</td>\n",
              "      <td>30</td>\n",
              "    </tr>\n",
              "    <tr>\n",
              "      <th>3</th>\n",
              "      <td>32</td>\n",
              "      <td>62</td>\n",
              "      <td>34</td>\n",
              "      <td>22</td>\n",
              "      <td>0</td>\n",
              "      <td>20</td>\n",
              "    </tr>\n",
              "    <tr>\n",
              "      <th>4</th>\n",
              "      <td>28</td>\n",
              "      <td>54</td>\n",
              "      <td>46</td>\n",
              "      <td>35</td>\n",
              "      <td>0</td>\n",
              "      <td>0</td>\n",
              "    </tr>\n",
              "    <tr>\n",
              "      <th>...</th>\n",
              "      <td>...</td>\n",
              "      <td>...</td>\n",
              "      <td>...</td>\n",
              "      <td>...</td>\n",
              "      <td>...</td>\n",
              "      <td>...</td>\n",
              "    </tr>\n",
              "    <tr>\n",
              "      <th>94</th>\n",
              "      <td>25</td>\n",
              "      <td>50</td>\n",
              "      <td>32</td>\n",
              "      <td>24</td>\n",
              "      <td>0</td>\n",
              "      <td>19</td>\n",
              "    </tr>\n",
              "    <tr>\n",
              "      <th>95</th>\n",
              "      <td>30</td>\n",
              "      <td>60</td>\n",
              "      <td>27</td>\n",
              "      <td>4</td>\n",
              "      <td>17</td>\n",
              "      <td>17</td>\n",
              "    </tr>\n",
              "    <tr>\n",
              "      <th>96</th>\n",
              "      <td>38</td>\n",
              "      <td>72</td>\n",
              "      <td>51</td>\n",
              "      <td>39</td>\n",
              "      <td>0</td>\n",
              "      <td>0</td>\n",
              "    </tr>\n",
              "    <tr>\n",
              "      <th>97</th>\n",
              "      <td>36</td>\n",
              "      <td>60</td>\n",
              "      <td>43</td>\n",
              "      <td>15</td>\n",
              "      <td>0</td>\n",
              "      <td>41</td>\n",
              "    </tr>\n",
              "    <tr>\n",
              "      <th>98</th>\n",
              "      <td>29</td>\n",
              "      <td>58</td>\n",
              "      <td>57</td>\n",
              "      <td>12</td>\n",
              "      <td>0</td>\n",
              "      <td>10</td>\n",
              "    </tr>\n",
              "  </tbody>\n",
              "</table>\n",
              "<p>99 rows × 6 columns</p>\n",
              "</div>"
            ],
            "text/plain": [
              "    Temparature  Humidity   Moisture  Nitrogen  Potassium  Phosphorous\n",
              "0            26         52        38        37          0            0\n",
              "1            29         52        45        12          0           36\n",
              "2            34         65        62         7          9           30\n",
              "3            32         62        34        22          0           20\n",
              "4            28         54        46        35          0            0\n",
              "..          ...        ...       ...       ...        ...          ...\n",
              "94           25         50        32        24          0           19\n",
              "95           30         60        27         4         17           17\n",
              "96           38         72        51        39          0            0\n",
              "97           36         60        43        15          0           41\n",
              "98           29         58        57        12          0           10\n",
              "\n",
              "[99 rows x 6 columns]"
            ]
          },
          "execution_count": 8,
          "metadata": {},
          "output_type": "execute_result"
        }
      ],
      "source": [
        "fert_cols = fert.select_dtypes(include=np.number)\n",
        "fert_cols"
      ]
    },
    {
      "cell_type": "code",
      "execution_count": 9,
      "id": "c394e9b0",
      "metadata": {
        "colab": {
          "base_uri": "https://localhost:8080/",
          "height": 237
        },
        "id": "c394e9b0",
        "outputId": "9d2ff658-c623-4490-a295-fc623f49df51"
      },
      "outputs": [
        {
          "data": {
            "application/vnd.microsoft.datawrangler.viewer.v0+json": {
              "columns": [
                {
                  "name": "index",
                  "rawType": "object",
                  "type": "string"
                },
                {
                  "name": "Temparature",
                  "rawType": "float64",
                  "type": "float"
                },
                {
                  "name": "Humidity ",
                  "rawType": "float64",
                  "type": "float"
                },
                {
                  "name": "Moisture",
                  "rawType": "float64",
                  "type": "float"
                },
                {
                  "name": "Nitrogen",
                  "rawType": "float64",
                  "type": "float"
                },
                {
                  "name": "Potassium",
                  "rawType": "float64",
                  "type": "float"
                },
                {
                  "name": "Phosphorous",
                  "rawType": "float64",
                  "type": "float"
                }
              ],
              "ref": "759d90bb-8352-438d-844b-85e60c179722",
              "rows": [
                [
                  "Temparature",
                  "1.0",
                  "0.9731639177177095",
                  "0.09122180347076939",
                  "-0.033771404858364135",
                  "-0.023423590299862147",
                  "0.20754512888858145"
                ],
                [
                  "Humidity ",
                  "0.9731639177177095",
                  "1.0",
                  "0.09134157777936525",
                  "-0.060646116087131934",
                  "-0.003833361907211875",
                  "0.20404389561548888"
                ],
                [
                  "Moisture",
                  "0.09122180347076939",
                  "0.09134157777936525",
                  "1.0",
                  "-0.0959452486944027",
                  "0.027727232876691738",
                  "0.009276030406978993"
                ],
                [
                  "Nitrogen",
                  "-0.033771404858364135",
                  "-0.060646116087131934",
                  "-0.0959452486944027",
                  "1.0",
                  "-0.500087204879051",
                  "-0.6869707615424939"
                ],
                [
                  "Potassium",
                  "-0.023423590299862147",
                  "-0.003833361907211875",
                  "0.027727232876691738",
                  "-0.500087204879051",
                  "1.0",
                  "0.08919241702245397"
                ],
                [
                  "Phosphorous",
                  "0.20754512888858145",
                  "0.20404389561548888",
                  "0.009276030406978993",
                  "-0.6869707615424939",
                  "0.08919241702245397",
                  "1.0"
                ]
              ],
              "shape": {
                "columns": 6,
                "rows": 6
              }
            },
            "text/html": [
              "<div>\n",
              "<style scoped>\n",
              "    .dataframe tbody tr th:only-of-type {\n",
              "        vertical-align: middle;\n",
              "    }\n",
              "\n",
              "    .dataframe tbody tr th {\n",
              "        vertical-align: top;\n",
              "    }\n",
              "\n",
              "    .dataframe thead th {\n",
              "        text-align: right;\n",
              "    }\n",
              "</style>\n",
              "<table border=\"1\" class=\"dataframe\">\n",
              "  <thead>\n",
              "    <tr style=\"text-align: right;\">\n",
              "      <th></th>\n",
              "      <th>Temparature</th>\n",
              "      <th>Humidity</th>\n",
              "      <th>Moisture</th>\n",
              "      <th>Nitrogen</th>\n",
              "      <th>Potassium</th>\n",
              "      <th>Phosphorous</th>\n",
              "    </tr>\n",
              "  </thead>\n",
              "  <tbody>\n",
              "    <tr>\n",
              "      <th>Temparature</th>\n",
              "      <td>1.000000</td>\n",
              "      <td>0.973164</td>\n",
              "      <td>0.091222</td>\n",
              "      <td>-0.033771</td>\n",
              "      <td>-0.023424</td>\n",
              "      <td>0.207545</td>\n",
              "    </tr>\n",
              "    <tr>\n",
              "      <th>Humidity</th>\n",
              "      <td>0.973164</td>\n",
              "      <td>1.000000</td>\n",
              "      <td>0.091342</td>\n",
              "      <td>-0.060646</td>\n",
              "      <td>-0.003833</td>\n",
              "      <td>0.204044</td>\n",
              "    </tr>\n",
              "    <tr>\n",
              "      <th>Moisture</th>\n",
              "      <td>0.091222</td>\n",
              "      <td>0.091342</td>\n",
              "      <td>1.000000</td>\n",
              "      <td>-0.095945</td>\n",
              "      <td>0.027727</td>\n",
              "      <td>0.009276</td>\n",
              "    </tr>\n",
              "    <tr>\n",
              "      <th>Nitrogen</th>\n",
              "      <td>-0.033771</td>\n",
              "      <td>-0.060646</td>\n",
              "      <td>-0.095945</td>\n",
              "      <td>1.000000</td>\n",
              "      <td>-0.500087</td>\n",
              "      <td>-0.686971</td>\n",
              "    </tr>\n",
              "    <tr>\n",
              "      <th>Potassium</th>\n",
              "      <td>-0.023424</td>\n",
              "      <td>-0.003833</td>\n",
              "      <td>0.027727</td>\n",
              "      <td>-0.500087</td>\n",
              "      <td>1.000000</td>\n",
              "      <td>0.089192</td>\n",
              "    </tr>\n",
              "    <tr>\n",
              "      <th>Phosphorous</th>\n",
              "      <td>0.207545</td>\n",
              "      <td>0.204044</td>\n",
              "      <td>0.009276</td>\n",
              "      <td>-0.686971</td>\n",
              "      <td>0.089192</td>\n",
              "      <td>1.000000</td>\n",
              "    </tr>\n",
              "  </tbody>\n",
              "</table>\n",
              "</div>"
            ],
            "text/plain": [
              "             Temparature  Humidity   Moisture  Nitrogen  Potassium  \\\n",
              "Temparature     1.000000   0.973164  0.091222 -0.033771  -0.023424   \n",
              "Humidity        0.973164   1.000000  0.091342 -0.060646  -0.003833   \n",
              "Moisture        0.091222   0.091342  1.000000 -0.095945   0.027727   \n",
              "Nitrogen       -0.033771  -0.060646 -0.095945  1.000000  -0.500087   \n",
              "Potassium      -0.023424  -0.003833  0.027727 -0.500087   1.000000   \n",
              "Phosphorous     0.207545   0.204044  0.009276 -0.686971   0.089192   \n",
              "\n",
              "             Phosphorous  \n",
              "Temparature     0.207545  \n",
              "Humidity        0.204044  \n",
              "Moisture        0.009276  \n",
              "Nitrogen       -0.686971  \n",
              "Potassium       0.089192  \n",
              "Phosphorous     1.000000  "
            ]
          },
          "execution_count": 9,
          "metadata": {},
          "output_type": "execute_result"
        }
      ],
      "source": [
        "fert_co = fert_cols.corr()\n",
        "fert_co"
      ]
    },
    {
      "cell_type": "code",
      "execution_count": 10,
      "id": "b432f1e8",
      "metadata": {
        "colab": {
          "base_uri": "https://localhost:8080/",
          "height": 510
        },
        "id": "b432f1e8",
        "outputId": "fbe55a2c-a870-4e83-ec25-51a0f0118e50"
      },
      "outputs": [
        {
          "data": {
            "image/png": "[encoded data removed]",
            "text/plain": [
              "<Figure size 640x480 with 2 Axes>"
            ]
          },
          "metadata": {},
          "output_type": "display_data"
        }
      ],
      "source": [
        "sns.heatmap(fert_co , annot=True , cmap='coolwarm')\n",
        "plt.show()"
      ]
    },
    {
      "cell_type": "code",
      "execution_count": 11,
      "id": "26dc92f7",
      "metadata": {
        "colab": {
          "base_uri": "https://localhost:8080/",
          "height": 335
        },
        "id": "26dc92f7",
        "outputId": "db5d878f-1ff3-43f1-a57f-49b233c6f875"
      },
      "outputs": [
        {
          "data": {
            "application/vnd.microsoft.datawrangler.viewer.v0+json": {
              "columns": [
                {
                  "name": "Fertilizer Name",
                  "rawType": "object",
                  "type": "string"
                },
                {
                  "name": "count",
                  "rawType": "int64",
                  "type": "integer"
                }
              ],
              "ref": "6d3a3be9-82f3-4d3b-a4b5-5f45ba1d5fa4",
              "rows": [
                [
                  "Urea",
                  "22"
                ],
                [
                  "DAP",
                  "18"
                ],
                [
                  "28-28",
                  "17"
                ],
                [
                  "14-35-14",
                  "14"
                ],
                [
                  "20-20",
                  "14"
                ],
                [
                  "17-17-17",
                  "7"
                ],
                [
                  "10-26-26",
                  "7"
                ]
              ],
              "shape": {
                "columns": 1,
                "rows": 7
              }
            },
            "text/plain": [
              "Fertilizer Name\n",
              "Urea        22\n",
              "DAP         18\n",
              "28-28       17\n",
              "14-35-14    14\n",
              "20-20       14\n",
              "17-17-17     7\n",
              "10-26-26     7\n",
              "Name: count, dtype: int64"
            ]
          },
          "execution_count": 11,
          "metadata": {},
          "output_type": "execute_result"
        }
      ],
      "source": [
        "fert['Fertilizer Name'].value_counts()"
      ]
    },
    {
      "cell_type": "code",
      "execution_count": 12,
      "id": "cae331de",
      "metadata": {
        "colab": {
          "base_uri": "https://localhost:8080/",
          "height": 449
        },
        "id": "cae331de",
        "outputId": "4589f338-8d68-4eca-d757-45868f70bc90"
      },
      "outputs": [
        {
          "data": {
            "image/png": "[encoded data removed]",
            "text/plain": [
              "<Figure size 640x480 with 1 Axes>"
            ]
          },
          "metadata": {},
          "output_type": "display_data"
        }
      ],
      "source": [
        "sns.histplot(fert['Fertilizer Name'])\n",
        "plt.show()"
      ]
    },
    {
      "cell_type": "code",
      "execution_count": 13,
      "id": "563fd458",
      "metadata": {
        "colab": {
          "base_uri": "https://localhost:8080/"
        },
        "id": "563fd458",
        "outputId": "22e61fc6-3d4f-46a2-9fa7-69108454ba57"
      },
      "outputs": [
        {
          "data": {
            "text/plain": [
              "['Temparature',\n",
              " 'Humidity ',\n",
              " 'Moisture',\n",
              " 'Nitrogen',\n",
              " 'Potassium',\n",
              " 'Phosphorous']"
            ]
          },
          "execution_count": 13,
          "metadata": {},
          "output_type": "execute_result"
        }
      ],
      "source": [
        "fert_features = fert.select_dtypes(include=np.number).columns.to_list()\n",
        "fert_features"
      ]
    },
    {
      "cell_type": "code",
      "execution_count": 14,
      "id": "9a14ccb9",
      "metadata": {
        "colab": {
          "base_uri": "https://localhost:8080/",
          "height": 876
        },
        "id": "9a14ccb9",
        "outputId": "dff32cf4-65e0-4691-8b66-65ace8cb246b"
      },
      "outputs": [
        {
          "data": {
            "image/png": "[encoded data removed]",
            "text/plain": [
              "<Figure size 1000x1000 with 6 Axes>"
            ]
          },
          "metadata": {},
          "output_type": "display_data"
        }
      ],
      "source": [
        "fig,ax = plt.subplots(2, 3, figsize=(10, 10))\n",
        "for i, subplot in zip(fert_features, ax.flatten()):\n",
        "    sns.histplot(fert[i], ax=subplot, kde=True)\n",
        "    subplot.set_title(i)\n",
        "plt.tight_layout()\n",
        "plt.show()"
      ]
    },
    {
      "cell_type": "code",
      "execution_count": 15,
      "id": "ad80b1d6",
      "metadata": {
        "colab": {
          "base_uri": "https://localhost:8080/",
          "height": 876
        },
        "id": "ad80b1d6",
        "outputId": "b05f274f-c6a4-4dee-8846-52443f965d80"
      },
      "outputs": [
        {
          "data": {
            "image/png": "[encoded data removed]",
            "text/plain": [
              "<Figure size 1300x1300 with 6 Axes>"
            ]
          },
          "metadata": {},
          "output_type": "display_data"
        }
      ],
      "source": [
        "fig,ax = plt.subplots(2, 3, figsize=(13, 13))\n",
        "for i, subplot in zip(fert_features, ax.flatten()):\n",
        "    sns.scatterplot(data=fert, x=i, y='Fertilizer Name', ax=subplot)\n",
        "    subplot.set_title(i)\n",
        "plt.tight_layout()\n",
        "plt.show()"
      ]
    },
    {
      "cell_type": "code",
      "execution_count": 16,
      "id": "c08c7e10",
      "metadata": {
        "colab": {
          "base_uri": "https://localhost:8080/"
        },
        "id": "c08c7e10",
        "outputId": "54fd101d-e343-426f-8ab4-1b6b07ef9030"
      },
      "outputs": [
        {
          "data": {
            "text/plain": [
              "array(['Urea', 'DAP', '14-35-14', '28-28', '17-17-17', '20-20',\n",
              "       '10-26-26'], dtype=object)"
            ]
          },
          "execution_count": 16,
          "metadata": {},
          "output_type": "execute_result"
        }
      ],
      "source": [
        "fert['Fertilizer Name'].unique()"
      ]
    },
    {
      "cell_type": "code",
      "execution_count": 17,
      "id": "71fbd521",
      "metadata": {
        "id": "71fbd521"
      },
      "outputs": [],
      "source": [
        "fert_dict = {\n",
        "    'Urea' : 1,\n",
        "     'DAP' : 2 ,\n",
        "     '14-35-14' : 3,\n",
        "     '28-28' : 4,\n",
        "     '17-17-17' : 5,\n",
        "     '20-20' : 6,\n",
        "     '10-26-26' : 7\n",
        "}"
      ]
    },
    {
      "cell_type": "code",
      "execution_count": 18,
      "id": "e13d8a96",
      "metadata": {
        "colab": {
          "base_uri": "https://localhost:8080/",
          "height": 243
        },
        "id": "e13d8a96",
        "outputId": "d511c5cc-9df3-4b01-c182-6b82cf39749e"
      },
      "outputs": [
        {
          "data": {
            "application/vnd.microsoft.datawrangler.viewer.v0+json": {
              "columns": [
                {
                  "name": "index",
                  "rawType": "int64",
                  "type": "integer"
                },
                {
                  "name": "Temparature",
                  "rawType": "int64",
                  "type": "integer"
                },
                {
                  "name": "Humidity ",
                  "rawType": "int64",
                  "type": "integer"
                },
                {
                  "name": "Moisture",
                  "rawType": "int64",
                  "type": "integer"
                },
                {
                  "name": "Soil Type",
                  "rawType": "object",
                  "type": "string"
                },
                {
                  "name": "Crop Type",
                  "rawType": "object",
                  "type": "string"
                },
                {
                  "name": "Nitrogen",
                  "rawType": "int64",
                  "type": "integer"
                },
                {
                  "name": "Potassium",
                  "rawType": "int64",
                  "type": "integer"
                },
                {
                  "name": "Phosphorous",
                  "rawType": "int64",
                  "type": "integer"
                },
                {
                  "name": "Fertilizer Name",
                  "rawType": "object",
                  "type": "string"
                },
                {
                  "name": "fert_no",
                  "rawType": "int64",
                  "type": "integer"
                }
              ],
              "ref": "36d03382-0869-4911-bfa4-82f13472e7a2",
              "rows": [
                [
                  "0",
                  "26",
                  "52",
                  "38",
                  "Sandy",
                  "Maize",
                  "37",
                  "0",
                  "0",
                  "Urea",
                  "1"
                ],
                [
                  "1",
                  "29",
                  "52",
                  "45",
                  "Loamy",
                  "Sugarcane",
                  "12",
                  "0",
                  "36",
                  "DAP",
                  "2"
                ],
                [
                  "2",
                  "34",
                  "65",
                  "62",
                  "Black",
                  "Cotton",
                  "7",
                  "9",
                  "30",
                  "14-35-14",
                  "3"
                ],
                [
                  "3",
                  "32",
                  "62",
                  "34",
                  "Red",
                  "Tobacco",
                  "22",
                  "0",
                  "20",
                  "28-28",
                  "4"
                ],
                [
                  "4",
                  "28",
                  "54",
                  "46",
                  "Clayey",
                  "Paddy",
                  "35",
                  "0",
                  "0",
                  "Urea",
                  "1"
                ]
              ],
              "shape": {
                "columns": 10,
                "rows": 5
              }
            },
            "text/html": [
              "<div>\n",
              "<style scoped>\n",
              "    .dataframe tbody tr th:only-of-type {\n",
              "        vertical-align: middle;\n",
              "    }\n",
              "\n",
              "    .dataframe tbody tr th {\n",
              "        vertical-align: top;\n",
              "    }\n",
              "\n",
              "    .dataframe thead th {\n",
              "        text-align: right;\n",
              "    }\n",
              "</style>\n",
              "<table border=\"1\" class=\"dataframe\">\n",
              "  <thead>\n",
              "    <tr style=\"text-align: right;\">\n",
              "      <th></th>\n",
              "      <th>Temparature</th>\n",
              "      <th>Humidity</th>\n",
              "      <th>Moisture</th>\n",
              "      <th>Soil Type</th>\n",
              "      <th>Crop Type</th>\n",
              "      <th>Nitrogen</th>\n",
              "      <th>Potassium</th>\n",
              "      <th>Phosphorous</th>\n",
              "      <th>Fertilizer Name</th>\n",
              "      <th>fert_no</th>\n",
              "    </tr>\n",
              "  </thead>\n",
              "  <tbody>\n",
              "    <tr>\n",
              "      <th>0</th>\n",
              "      <td>26</td>\n",
              "      <td>52</td>\n",
              "      <td>38</td>\n",
              "      <td>Sandy</td>\n",
              "      <td>Maize</td>\n",
              "      <td>37</td>\n",
              "      <td>0</td>\n",
              "      <td>0</td>\n",
              "      <td>Urea</td>\n",
              "      <td>1</td>\n",
              "    </tr>\n",
              "    <tr>\n",
              "      <th>1</th>\n",
              "      <td>29</td>\n",
              "      <td>52</td>\n",
              "      <td>45</td>\n",
              "      <td>Loamy</td>\n",
              "      <td>Sugarcane</td>\n",
              "      <td>12</td>\n",
              "      <td>0</td>\n",
              "      <td>36</td>\n",
              "      <td>DAP</td>\n",
              "      <td>2</td>\n",
              "    </tr>\n",
              "    <tr>\n",
              "      <th>2</th>\n",
              "      <td>34</td>\n",
              "      <td>65</td>\n",
              "      <td>62</td>\n",
              "      <td>Black</td>\n",
              "      <td>Cotton</td>\n",
              "      <td>7</td>\n",
              "      <td>9</td>\n",
              "      <td>30</td>\n",
              "      <td>14-35-14</td>\n",
              "      <td>3</td>\n",
              "    </tr>\n",
              "    <tr>\n",
              "      <th>3</th>\n",
              "      <td>32</td>\n",
              "      <td>62</td>\n",
              "      <td>34</td>\n",
              "      <td>Red</td>\n",
              "      <td>Tobacco</td>\n",
              "      <td>22</td>\n",
              "      <td>0</td>\n",
              "      <td>20</td>\n",
              "      <td>28-28</td>\n",
              "      <td>4</td>\n",
              "    </tr>\n",
              "    <tr>\n",
              "      <th>4</th>\n",
              "      <td>28</td>\n",
              "      <td>54</td>\n",
              "      <td>46</td>\n",
              "      <td>Clayey</td>\n",
              "      <td>Paddy</td>\n",
              "      <td>35</td>\n",
              "      <td>0</td>\n",
              "      <td>0</td>\n",
              "      <td>Urea</td>\n",
              "      <td>1</td>\n",
              "    </tr>\n",
              "  </tbody>\n",
              "</table>\n",
              "</div>"
            ],
            "text/plain": [
              "   Temparature  Humidity   Moisture Soil Type  Crop Type  Nitrogen  Potassium  \\\n",
              "0           26         52        38     Sandy      Maize        37          0   \n",
              "1           29         52        45     Loamy  Sugarcane        12          0   \n",
              "2           34         65        62     Black     Cotton         7          9   \n",
              "3           32         62        34       Red    Tobacco        22          0   \n",
              "4           28         54        46    Clayey      Paddy        35          0   \n",
              "\n",
              "   Phosphorous Fertilizer Name  fert_no  \n",
              "0            0            Urea        1  \n",
              "1           36             DAP        2  \n",
              "2           30        14-35-14        3  \n",
              "3           20           28-28        4  \n",
              "4            0            Urea        1  "
            ]
          },
          "execution_count": 18,
          "metadata": {},
          "output_type": "execute_result"
        }
      ],
      "source": [
        "fert['fert_no'] = fert['Fertilizer Name'].map(fert_dict)\n",
        "fert.head()"
      ]
    },
    {
      "cell_type": "code",
      "execution_count": 19,
      "id": "69e6ad2f",
      "metadata": {
        "colab": {
          "base_uri": "https://localhost:8080/",
          "height": 335
        },
        "id": "69e6ad2f",
        "outputId": "9b425017-771d-4389-a73e-4240eb1099ff"
      },
      "outputs": [
        {
          "data": {
            "application/vnd.microsoft.datawrangler.viewer.v0+json": {
              "columns": [
                {
                  "name": "fert_no",
                  "rawType": "int64",
                  "type": "integer"
                },
                {
                  "name": "count",
                  "rawType": "int64",
                  "type": "integer"
                }
              ],
              "ref": "921600c6-7569-4660-965e-d3817607326d",
              "rows": [
                [
                  "1",
                  "22"
                ],
                [
                  "2",
                  "18"
                ],
                [
                  "4",
                  "17"
                ],
                [
                  "3",
                  "14"
                ],
                [
                  "6",
                  "14"
                ],
                [
                  "5",
                  "7"
                ],
                [
                  "7",
                  "7"
                ]
              ],
              "shape": {
                "columns": 1,
                "rows": 7
              }
            },
            "text/plain": [
              "fert_no\n",
              "1    22\n",
              "2    18\n",
              "4    17\n",
              "3    14\n",
              "6    14\n",
              "5     7\n",
              "7     7\n",
              "Name: count, dtype: int64"
            ]
          },
          "execution_count": 19,
          "metadata": {},
          "output_type": "execute_result"
        }
      ],
      "source": [
        "fert['fert_no'].value_counts()"
      ]
    },
    {
      "cell_type": "code",
      "execution_count": 20,
      "id": "6750ecc1",
      "metadata": {
        "colab": {
          "base_uri": "https://localhost:8080/",
          "height": 206
        },
        "id": "6750ecc1",
        "outputId": "64d67135-f5d8-46e3-97b5-30842b4e0f0a"
      },
      "outputs": [
        {
          "data": {
            "application/vnd.microsoft.datawrangler.viewer.v0+json": {
              "columns": [
                {
                  "name": "index",
                  "rawType": "int64",
                  "type": "integer"
                },
                {
                  "name": "Temparature",
                  "rawType": "int64",
                  "type": "integer"
                },
                {
                  "name": "Humidity ",
                  "rawType": "int64",
                  "type": "integer"
                },
                {
                  "name": "Moisture",
                  "rawType": "int64",
                  "type": "integer"
                },
                {
                  "name": "Soil Type",
                  "rawType": "object",
                  "type": "string"
                },
                {
                  "name": "Crop Type",
                  "rawType": "object",
                  "type": "string"
                },
                {
                  "name": "Nitrogen",
                  "rawType": "int64",
                  "type": "integer"
                },
                {
                  "name": "Potassium",
                  "rawType": "int64",
                  "type": "integer"
                },
                {
                  "name": "Phosphorous",
                  "rawType": "int64",
                  "type": "integer"
                },
                {
                  "name": "fert_no",
                  "rawType": "int64",
                  "type": "integer"
                }
              ],
              "ref": "2210a7e5-ec6b-42c6-a150-4c2a40248e38",
              "rows": [
                [
                  "0",
                  "26",
                  "52",
                  "38",
                  "Sandy",
                  "Maize",
                  "37",
                  "0",
                  "0",
                  "1"
                ],
                [
                  "1",
                  "29",
                  "52",
                  "45",
                  "Loamy",
                  "Sugarcane",
                  "12",
                  "0",
                  "36",
                  "2"
                ],
                [
                  "2",
                  "34",
                  "65",
                  "62",
                  "Black",
                  "Cotton",
                  "7",
                  "9",
                  "30",
                  "3"
                ],
                [
                  "3",
                  "32",
                  "62",
                  "34",
                  "Red",
                  "Tobacco",
                  "22",
                  "0",
                  "20",
                  "4"
                ],
                [
                  "4",
                  "28",
                  "54",
                  "46",
                  "Clayey",
                  "Paddy",
                  "35",
                  "0",
                  "0",
                  "1"
                ]
              ],
              "shape": {
                "columns": 9,
                "rows": 5
              }
            },
            "text/html": [
              "<div>\n",
              "<style scoped>\n",
              "    .dataframe tbody tr th:only-of-type {\n",
              "        vertical-align: middle;\n",
              "    }\n",
              "\n",
              "    .dataframe tbody tr th {\n",
              "        vertical-align: top;\n",
              "    }\n",
              "\n",
              "    .dataframe thead th {\n",
              "        text-align: right;\n",
              "    }\n",
              "</style>\n",
              "<table border=\"1\" class=\"dataframe\">\n",
              "  <thead>\n",
              "    <tr style=\"text-align: right;\">\n",
              "      <th></th>\n",
              "      <th>Temparature</th>\n",
              "      <th>Humidity</th>\n",
              "      <th>Moisture</th>\n",
              "      <th>Soil Type</th>\n",
              "      <th>Crop Type</th>\n",
              "      <th>Nitrogen</th>\n",
              "      <th>Potassium</th>\n",
              "      <th>Phosphorous</th>\n",
              "      <th>fert_no</th>\n",
              "    </tr>\n",
              "  </thead>\n",
              "  <tbody>\n",
              "    <tr>\n",
              "      <th>0</th>\n",
              "      <td>26</td>\n",
              "      <td>52</td>\n",
              "      <td>38</td>\n",
              "      <td>Sandy</td>\n",
              "      <td>Maize</td>\n",
              "      <td>37</td>\n",
              "      <td>0</td>\n",
              "      <td>0</td>\n",
              "      <td>1</td>\n",
              "    </tr>\n",
              "    <tr>\n",
              "      <th>1</th>\n",
              "      <td>29</td>\n",
              "      <td>52</td>\n",
              "      <td>45</td>\n",
              "      <td>Loamy</td>\n",
              "      <td>Sugarcane</td>\n",
              "      <td>12</td>\n",
              "      <td>0</td>\n",
              "      <td>36</td>\n",
              "      <td>2</td>\n",
              "    </tr>\n",
              "    <tr>\n",
              "      <th>2</th>\n",
              "      <td>34</td>\n",
              "      <td>65</td>\n",
              "      <td>62</td>\n",
              "      <td>Black</td>\n",
              "      <td>Cotton</td>\n",
              "      <td>7</td>\n",
              "      <td>9</td>\n",
              "      <td>30</td>\n",
              "      <td>3</td>\n",
              "    </tr>\n",
              "    <tr>\n",
              "      <th>3</th>\n",
              "      <td>32</td>\n",
              "      <td>62</td>\n",
              "      <td>34</td>\n",
              "      <td>Red</td>\n",
              "      <td>Tobacco</td>\n",
              "      <td>22</td>\n",
              "      <td>0</td>\n",
              "      <td>20</td>\n",
              "      <td>4</td>\n",
              "    </tr>\n",
              "    <tr>\n",
              "      <th>4</th>\n",
              "      <td>28</td>\n",
              "      <td>54</td>\n",
              "      <td>46</td>\n",
              "      <td>Clayey</td>\n",
              "      <td>Paddy</td>\n",
              "      <td>35</td>\n",
              "      <td>0</td>\n",
              "      <td>0</td>\n",
              "      <td>1</td>\n",
              "    </tr>\n",
              "  </tbody>\n",
              "</table>\n",
              "</div>"
            ],
            "text/plain": [
              "   Temparature  Humidity   Moisture Soil Type  Crop Type  Nitrogen  Potassium  \\\n",
              "0           26         52        38     Sandy      Maize        37          0   \n",
              "1           29         52        45     Loamy  Sugarcane        12          0   \n",
              "2           34         65        62     Black     Cotton         7          9   \n",
              "3           32         62        34       Red    Tobacco        22          0   \n",
              "4           28         54        46    Clayey      Paddy        35          0   \n",
              "\n",
              "   Phosphorous  fert_no  \n",
              "0            0        1  \n",
              "1           36        2  \n",
              "2           30        3  \n",
              "3           20        4  \n",
              "4            0        1  "
            ]
          },
          "execution_count": 20,
          "metadata": {},
          "output_type": "execute_result"
        }
      ],
      "source": [
        "fert.drop('Fertilizer Name' , axis=1 , inplace=True)\n",
        "fert.head()"
      ]
    },
    {
      "cell_type": "code",
      "execution_count": 21,
      "id": "19ea01fe",
      "metadata": {
        "colab": {
          "base_uri": "https://localhost:8080/"
        },
        "id": "19ea01fe",
        "outputId": "a682dba7-0987-428f-cb73-54d7285e9b7b"
      },
      "outputs": [
        {
          "data": {
            "text/plain": [
              "Index(['Soil Type', 'Crop Type'], dtype='object')"
            ]
          },
          "execution_count": 21,
          "metadata": {},
          "output_type": "execute_result"
        }
      ],
      "source": [
        "# Select the object columns\n",
        "fert.select_dtypes(include=['object']).columns\n"
      ]
    },
    {
      "cell_type": "code",
      "execution_count": 22,
      "id": "e4903c7a",
      "metadata": {
        "colab": {
          "base_uri": "https://localhost:8080/",
          "height": 206
        },
        "id": "e4903c7a",
        "outputId": "9766c584-59dd-4c85-fcad-af2d90f2f671"
      },
      "outputs": [
        {
          "data": {
            "application/vnd.microsoft.datawrangler.viewer.v0+json": {
              "columns": [
                {
                  "name": "index",
                  "rawType": "int64",
                  "type": "integer"
                },
                {
                  "name": "Temparature",
                  "rawType": "int64",
                  "type": "integer"
                },
                {
                  "name": "Humidity ",
                  "rawType": "int64",
                  "type": "integer"
                },
                {
                  "name": "Moisture",
                  "rawType": "int64",
                  "type": "integer"
                },
                {
                  "name": "Soil Type",
                  "rawType": "int64",
                  "type": "integer"
                },
                {
                  "name": "Crop Type",
                  "rawType": "int64",
                  "type": "integer"
                },
                {
                  "name": "Nitrogen",
                  "rawType": "int64",
                  "type": "integer"
                },
                {
                  "name": "Potassium",
                  "rawType": "int64",
                  "type": "integer"
                },
                {
                  "name": "Phosphorous",
                  "rawType": "int64",
                  "type": "integer"
                },
                {
                  "name": "fert_no",
                  "rawType": "int64",
                  "type": "integer"
                }
              ],
              "ref": "4d5295c1-f029-437e-a62d-054d7c544f8e",
              "rows": [
                [
                  "0",
                  "26",
                  "52",
                  "38",
                  "4",
                  "3",
                  "37",
                  "0",
                  "0",
                  "1"
                ],
                [
                  "1",
                  "29",
                  "52",
                  "45",
                  "2",
                  "8",
                  "12",
                  "0",
                  "36",
                  "2"
                ],
                [
                  "2",
                  "34",
                  "65",
                  "62",
                  "0",
                  "1",
                  "7",
                  "9",
                  "30",
                  "3"
                ],
                [
                  "3",
                  "32",
                  "62",
                  "34",
                  "3",
                  "9",
                  "22",
                  "0",
                  "20",
                  "4"
                ],
                [
                  "4",
                  "28",
                  "54",
                  "46",
                  "1",
                  "6",
                  "35",
                  "0",
                  "0",
                  "1"
                ]
              ],
              "shape": {
                "columns": 9,
                "rows": 5
              }
            },
            "text/html": [
              "<div>\n",
              "<style scoped>\n",
              "    .dataframe tbody tr th:only-of-type {\n",
              "        vertical-align: middle;\n",
              "    }\n",
              "\n",
              "    .dataframe tbody tr th {\n",
              "        vertical-align: top;\n",
              "    }\n",
              "\n",
              "    .dataframe thead th {\n",
              "        text-align: right;\n",
              "    }\n",
              "</style>\n",
              "<table border=\"1\" class=\"dataframe\">\n",
              "  <thead>\n",
              "    <tr style=\"text-align: right;\">\n",
              "      <th></th>\n",
              "      <th>Temparature</th>\n",
              "      <th>Humidity</th>\n",
              "      <th>Moisture</th>\n",
              "      <th>Soil Type</th>\n",
              "      <th>Crop Type</th>\n",
              "      <th>Nitrogen</th>\n",
              "      <th>Potassium</th>\n",
              "      <th>Phosphorous</th>\n",
              "      <th>fert_no</th>\n",
              "    </tr>\n",
              "  </thead>\n",
              "  <tbody>\n",
              "    <tr>\n",
              "      <th>0</th>\n",
              "      <td>26</td>\n",
              "      <td>52</td>\n",
              "      <td>38</td>\n",
              "      <td>4</td>\n",
              "      <td>3</td>\n",
              "      <td>37</td>\n",
              "      <td>0</td>\n",
              "      <td>0</td>\n",
              "      <td>1</td>\n",
              "    </tr>\n",
              "    <tr>\n",
              "      <th>1</th>\n",
              "      <td>29</td>\n",
              "      <td>52</td>\n",
              "      <td>45</td>\n",
              "      <td>2</td>\n",
              "      <td>8</td>\n",
              "      <td>12</td>\n",
              "      <td>0</td>\n",
              "      <td>36</td>\n",
              "      <td>2</td>\n",
              "    </tr>\n",
              "    <tr>\n",
              "      <th>2</th>\n",
              "      <td>34</td>\n",
              "      <td>65</td>\n",
              "      <td>62</td>\n",
              "      <td>0</td>\n",
              "      <td>1</td>\n",
              "      <td>7</td>\n",
              "      <td>9</td>\n",
              "      <td>30</td>\n",
              "      <td>3</td>\n",
              "    </tr>\n",
              "    <tr>\n",
              "      <th>3</th>\n",
              "      <td>32</td>\n",
              "      <td>62</td>\n",
              "      <td>34</td>\n",
              "      <td>3</td>\n",
              "      <td>9</td>\n",
              "      <td>22</td>\n",
              "      <td>0</td>\n",
              "      <td>20</td>\n",
              "      <td>4</td>\n",
              "    </tr>\n",
              "    <tr>\n",
              "      <th>4</th>\n",
              "      <td>28</td>\n",
              "      <td>54</td>\n",
              "      <td>46</td>\n",
              "      <td>1</td>\n",
              "      <td>6</td>\n",
              "      <td>35</td>\n",
              "      <td>0</td>\n",
              "      <td>0</td>\n",
              "      <td>1</td>\n",
              "    </tr>\n",
              "  </tbody>\n",
              "</table>\n",
              "</div>"
            ],
            "text/plain": [
              "   Temparature  Humidity   Moisture  Soil Type  Crop Type  Nitrogen  \\\n",
              "0           26         52        38          4          3        37   \n",
              "1           29         52        45          2          8        12   \n",
              "2           34         65        62          0          1         7   \n",
              "3           32         62        34          3          9        22   \n",
              "4           28         54        46          1          6        35   \n",
              "\n",
              "   Potassium  Phosphorous  fert_no  \n",
              "0          0            0        1  \n",
              "1          0           36        2  \n",
              "2          9           30        3  \n",
              "3          0           20        4  \n",
              "4          0            0        1  "
            ]
          },
          "execution_count": 22,
          "metadata": {},
          "output_type": "execute_result"
        }
      ],
      "source": [
        "# convert the categorical columns to numerical columns using labelencoder\n",
        "\n",
        "lb = LabelEncoder()\n",
        "fert['Crop Type'] = lb.fit_transform(fert['Crop Type'])\n",
        "fert['Soil Type'] = lb.fit_transform(fert['Soil Type'])\n",
        "fert.head()"
      ]
    },
    {
      "cell_type": "code",
      "execution_count": 23,
      "id": "ff8345cd",
      "metadata": {
        "colab": {
          "base_uri": "https://localhost:8080/"
        },
        "id": "ff8345cd",
        "outputId": "8998ce9b-1245-4681-c1d1-677ccf364423"
      },
      "outputs": [
        {
          "name": "stdout",
          "output_type": "stream",
          "text": [
            "The shape of features is: (99, 8)\n",
            "The shape of target is: (99,)\n"
          ]
        }
      ],
      "source": [
        "# split the dataset into features and target\n",
        "\n",
        "x = fert.drop('fert_no' , axis=1)\n",
        "y = fert['fert_no']\n",
        "print(f\"The shape of features is: {x.shape}\")\n",
        "print(f\"The shape of target is: {y.shape}\")"
      ]
    },
    {
      "cell_type": "code",
      "execution_count": 24,
      "id": "52a7b04c",
      "metadata": {
        "colab": {
          "base_uri": "https://localhost:8080/"
        },
        "id": "52a7b04c",
        "outputId": "66b362af-c7ee-4200-94df-4417b9ad86fc"
      },
      "outputs": [
        {
          "name": "stdout",
          "output_type": "stream",
          "text": [
            "The shape of x_train is: (79, 8)\n",
            "The shape of x_test is: (20, 8)\n",
            "The shape of y_train is: (79,)\n",
            "The shape of y_test is: (20,)\n"
          ]
        }
      ],
      "source": [
        "# split the dataset into training and testing sets\n",
        "\n",
        "x_train , x_test , y_train , y_test = train_test_split(x , y , test_size=0.2 , random_state=50)\n",
        "print(f\"The shape of x_train is: {x_train.shape}\")\n",
        "print(f\"The shape of x_test is: {x_test.shape}\")\n",
        "print(f\"The shape of y_train is: {y_train.shape}\")\n",
        "print(f\"The shape of y_test is: {y_test.shape}\")"
      ]
    },
    {
      "cell_type": "code",
      "execution_count": 25,
      "id": "acf578f2",
      "metadata": {
        "id": "acf578f2"
      },
      "outputs": [],
      "source": [
        "# Scale the features using StandardScaler\n",
        "sc = StandardScaler()\n",
        "\n",
        "x_train = sc.fit_transform(x_train)\n",
        "x_test = sc.transform(x_test)"
      ]
    },
    {
      "cell_type": "code",
      "execution_count": 26,
      "id": "4ced66db",
      "metadata": {
        "id": "4ced66db"
      },
      "outputs": [],
      "source": [
        "# insialize the DecisionTreeClassifier\n",
        "model = DecisionTreeClassifier()"
      ]
    },
    {
      "cell_type": "code",
      "execution_count": 27,
      "id": "ee47fa7a",
      "metadata": {
        "colab": {
          "base_uri": "https://localhost:8080/",
          "height": 80
        },
        "id": "ee47fa7a",
        "outputId": "05a4aa51-d665-40d0-b73f-00069b003718"
      },
      "outputs": [
        {
          "data": {
            "text/html": [
              "<style>#sk-container-id-1 {\n",
              "  /* Definition of color scheme common for light and dark mode */\n",
              "  --sklearn-color-text: #000;\n",
              "  --sklearn-color-text-muted: #666;\n",
              "  --sklearn-color-line: gray;\n",
              "  /* Definition of color scheme for unfitted estimators */\n",
              "  --sklearn-color-unfitted-level-0: #fff5e6;\n",
              "  --sklearn-color-unfitted-level-1: #f6e4d2;\n",
              "  --sklearn-color-unfitted-level-2: #ffe0b3;\n",
              "  --sklearn-color-unfitted-level-3: chocolate;\n",
              "  /* Definition of color scheme for fitted estimators */\n",
              "  --sklearn-color-fitted-level-0: #f0f8ff;\n",
              "  --sklearn-color-fitted-level-1: #d4ebff;\n",
              "  --sklearn-color-fitted-level-2: #b3dbfd;\n",
              "  --sklearn-color-fitted-level-3: cornflowerblue;\n",
              "\n",
              "  /* Specific color for light theme */\n",
              "  --sklearn-color-text-on-default-background: var(--sg-text-color, var(--theme-code-foreground, var(--jp-content-font-color1, black)));\n",
              "  --sklearn-color-background: var(--sg-background-color, var(--theme-background, var(--jp-layout-color0, white)));\n",
              "  --sklearn-color-border-box: var(--sg-text-color, var(--theme-code-foreground, var(--jp-content-font-color1, black)));\n",
              "  --sklearn-color-icon: #696969;\n",
              "\n",
              "  @media (prefers-color-scheme: dark) {\n",
              "    /* Redefinition of color scheme for dark theme */\n",
              "    --sklearn-color-text-on-default-background: var(--sg-text-color, var(--theme-code-foreground, var(--jp-content-font-color1, white)));\n",
              "    --sklearn-color-background: var(--sg-background-color, var(--theme-background, var(--jp-layout-color0, #111)));\n",
              "    --sklearn-color-border-box: var(--sg-text-color, var(--theme-code-foreground, var(--jp-content-font-color1, white)));\n",
              "    --sklearn-color-icon: #878787;\n",
              "  }\n",
              "}\n",
              "\n",
              "#sk-container-id-1 {\n",
              "  color: var(--sklearn-color-text);\n",
              "}\n",
              "\n",
              "#sk-container-id-1 pre {\n",
              "  padding: 0;\n",
              "}\n",
              "\n",
              "#sk-container-id-1 input.sk-hidden--visually {\n",
              "  border: 0;\n",
              "  clip: rect(1px 1px 1px 1px);\n",
              "  clip: rect(1px, 1px, 1px, 1px);\n",
              "  height: 1px;\n",
              "  margin: -1px;\n",
              "  overflow: hidden;\n",
              "  padding: 0;\n",
              "  position: absolute;\n",
              "  width: 1px;\n",
              "}\n",
              "\n",
              "#sk-container-id-1 div.sk-dashed-wrapped {\n",
              "  border: 1px dashed var(--sklearn-color-line);\n",
              "  margin: 0 0.4em 0.5em 0.4em;\n",
              "  box-sizing: border-box;\n",
              "  padding-bottom: 0.4em;\n",
              "  background-color: var(--sklearn-color-background);\n",
              "}\n",
              "\n",
              "#sk-container-id-1 div.sk-container {\n",
              "  /* jupyter's `normalize.less` sets `[hidden] { display: none; }`\n",
              "     but bootstrap.min.css set `[hidden] { display: none !important; }`\n",
              "     so we also need the `!important` here to be able to override the\n",
              "     default hidden behavior on the sphinx rendered scikit-learn.org.\n",
              "     See: https://github.com/scikit-learn/scikit-learn/issues/21755 */\n",
              "  display: inline-block !important;\n",
              "  position: relative;\n",
              "}\n",
              "\n",
              "#sk-container-id-1 div.sk-text-repr-fallback {\n",
              "  display: none;\n",
              "}\n",
              "\n",
              "div.sk-parallel-item,\n",
              "div.sk-serial,\n",
              "div.sk-item {\n",
              "  /* draw centered vertical line to link estimators */\n",
              "  background-image: linear-gradient(var(--sklearn-color-text-on-default-background), var(--sklearn-color-text-on-default-background));\n",
              "  background-size: 2px 100%;\n",
              "  background-repeat: no-repeat;\n",
              "  background-position: center center;\n",
              "}\n",
              "\n",
              "/* Parallel-specific style estimator block */\n",
              "\n",
              "#sk-container-id-1 div.sk-parallel-item::after {\n",
              "  content: \"\";\n",
              "  width: 100%;\n",
              "  border-bottom: 2px solid var(--sklearn-color-text-on-default-background);\n",
              "  flex-grow: 1;\n",
              "}\n",
              "\n",
              "#sk-container-id-1 div.sk-parallel {\n",
              "  display: flex;\n",
              "  align-items: stretch;\n",
              "  justify-content: center;\n",
              "  background-color: var(--sklearn-color-background);\n",
              "  position: relative;\n",
              "}\n",
              "\n",
              "#sk-container-id-1 div.sk-parallel-item {\n",
              "  display: flex;\n",
              "  flex-direction: column;\n",
              "}\n",
              "\n",
              "#sk-container-id-1 div.sk-parallel-item:first-child::after {\n",
              "  align-self: flex-end;\n",
              "  width: 50%;\n",
              "}\n",
              "\n",
              "#sk-container-id-1 div.sk-parallel-item:last-child::after {\n",
              "  align-self: flex-start;\n",
              "  width: 50%;\n",
              "}\n",
              "\n",
              "#sk-container-id-1 div.sk-parallel-item:only-child::after {\n",
              "  width: 0;\n",
              "}\n",
              "\n",
              "/* Serial-specific style estimator block */\n",
              "\n",
              "#sk-container-id-1 div.sk-serial {\n",
              "  display: flex;\n",
              "  flex-direction: column;\n",
              "  align-items: center;\n",
              "  background-color: var(--sklearn-color-background);\n",
              "  padding-right: 1em;\n",
              "  padding-left: 1em;\n",
              "}\n",
              "\n",
              "\n",
              "/* Toggleable style: style used for estimator/Pipeline/ColumnTransformer box that is\n",
              "clickable and can be expanded/collapsed.\n",
              "- Pipeline and ColumnTransformer use this feature and define the default style\n",
              "- Estimators will overwrite some part of the style using the `sk-estimator` class\n",
              "*/\n",
              "\n",
              "/* Pipeline and ColumnTransformer style (default) */\n",
              "\n",
              "#sk-container-id-1 div.sk-toggleable {\n",
              "  /* Default theme specific background. It is overwritten whether we have a\n",
              "  specific estimator or a Pipeline/ColumnTransformer */\n",
              "  background-color: var(--sklearn-color-background);\n",
              "}\n",
              "\n",
              "/* Toggleable label */\n",
              "#sk-container-id-1 label.sk-toggleable__label {\n",
              "  cursor: pointer;\n",
              "  display: flex;\n",
              "  width: 100%;\n",
              "  margin-bottom: 0;\n",
              "  padding: 0.5em;\n",
              "  box-sizing: border-box;\n",
              "  text-align: center;\n",
              "  align-items: start;\n",
              "  justify-content: space-between;\n",
              "  gap: 0.5em;\n",
              "}\n",
              "\n",
              "#sk-container-id-1 label.sk-toggleable__label .caption {\n",
              "  font-size: 0.6rem;\n",
              "  font-weight: lighter;\n",
              "  color: var(--sklearn-color-text-muted);\n",
              "}\n",
              "\n",
              "#sk-container-id-1 label.sk-toggleable__label-arrow:before {\n",
              "  /* Arrow on the left of the label */\n",
              "  content: \"▸\";\n",
              "  float: left;\n",
              "  margin-right: 0.25em;\n",
              "  color: var(--sklearn-color-icon);\n",
              "}\n",
              "\n",
              "#sk-container-id-1 label.sk-toggleable__label-arrow:hover:before {\n",
              "  color: var(--sklearn-color-text);\n",
              "}\n",
              "\n",
              "/* Toggleable content - dropdown */\n",
              "\n",
              "#sk-container-id-1 div.sk-toggleable__content {\n",
              "  max-height: 0;\n",
              "  max-width: 0;\n",
              "  overflow: hidden;\n",
              "  text-align: left;\n",
              "  /* unfitted */\n",
              "  background-color: var(--sklearn-color-unfitted-level-0);\n",
              "}\n",
              "\n",
              "#sk-container-id-1 div.sk-toggleable__content.fitted {\n",
              "  /* fitted */\n",
              "  background-color: var(--sklearn-color-fitted-level-0);\n",
              "}\n",
              "\n",
              "#sk-container-id-1 div.sk-toggleable__content pre {\n",
              "  margin: 0.2em;\n",
              "  border-radius: 0.25em;\n",
              "  color: var(--sklearn-color-text);\n",
              "  /* unfitted */\n",
              "  background-color: var(--sklearn-color-unfitted-level-0);\n",
              "}\n",
              "\n",
              "#sk-container-id-1 div.sk-toggleable__content.fitted pre {\n",
              "  /* unfitted */\n",
              "  background-color: var(--sklearn-color-fitted-level-0);\n",
              "}\n",
              "\n",
              "#sk-container-id-1 input.sk-toggleable__control:checked~div.sk-toggleable__content {\n",
              "  /* Expand drop-down */\n",
              "  max-height: 200px;\n",
              "  max-width: 100%;\n",
              "  overflow: auto;\n",
              "}\n",
              "\n",
              "#sk-container-id-1 input.sk-toggleable__control:checked~label.sk-toggleable__label-arrow:before {\n",
              "  content: \"▾\";\n",
              "}\n",
              "\n",
              "/* Pipeline/ColumnTransformer-specific style */\n",
              "\n",
              "#sk-container-id-1 div.sk-label input.sk-toggleable__control:checked~label.sk-toggleable__label {\n",
              "  color: var(--sklearn-color-text);\n",
              "  background-color: var(--sklearn-color-unfitted-level-2);\n",
              "}\n",
              "\n",
              "#sk-container-id-1 div.sk-label.fitted input.sk-toggleable__control:checked~label.sk-toggleable__label {\n",
              "  background-color: var(--sklearn-color-fitted-level-2);\n",
              "}\n",
              "\n",
              "/* Estimator-specific style */\n",
              "\n",
              "/* Colorize estimator box */\n",
              "#sk-container-id-1 div.sk-estimator input.sk-toggleable__control:checked~label.sk-toggleable__label {\n",
              "  /* unfitted */\n",
              "  background-color: var(--sklearn-color-unfitted-level-2);\n",
              "}\n",
              "\n",
              "#sk-container-id-1 div.sk-estimator.fitted input.sk-toggleable__control:checked~label.sk-toggleable__label {\n",
              "  /* fitted */\n",
              "  background-color: var(--sklearn-color-fitted-level-2);\n",
              "}\n",
              "\n",
              "#sk-container-id-1 div.sk-label label.sk-toggleable__label,\n",
              "#sk-container-id-1 div.sk-label label {\n",
              "  /* The background is the default theme color */\n",
              "  color: var(--sklearn-color-text-on-default-background);\n",
              "}\n",
              "\n",
              "/* On hover, darken the color of the background */\n",
              "#sk-container-id-1 div.sk-label:hover label.sk-toggleable__label {\n",
              "  color: var(--sklearn-color-text);\n",
              "  background-color: var(--sklearn-color-unfitted-level-2);\n",
              "}\n",
              "\n",
              "/* Label box, darken color on hover, fitted */\n",
              "#sk-container-id-1 div.sk-label.fitted:hover label.sk-toggleable__label.fitted {\n",
              "  color: var(--sklearn-color-text);\n",
              "  background-color: var(--sklearn-color-fitted-level-2);\n",
              "}\n",
              "\n",
              "/* Estimator label */\n",
              "\n",
              "#sk-container-id-1 div.sk-label label {\n",
              "  font-family: monospace;\n",
              "  font-weight: bold;\n",
              "  display: inline-block;\n",
              "  line-height: 1.2em;\n",
              "}\n",
              "\n",
              "#sk-container-id-1 div.sk-label-container {\n",
              "  text-align: center;\n",
              "}\n",
              "\n",
              "/* Estimator-specific */\n",
              "#sk-container-id-1 div.sk-estimator {\n",
              "  font-family: monospace;\n",
              "  border: 1px dotted var(--sklearn-color-border-box);\n",
              "  border-radius: 0.25em;\n",
              "  box-sizing: border-box;\n",
              "  margin-bottom: 0.5em;\n",
              "  /* unfitted */\n",
              "  background-color: var(--sklearn-color-unfitted-level-0);\n",
              "}\n",
              "\n",
              "#sk-container-id-1 div.sk-estimator.fitted {\n",
              "  /* fitted */\n",
              "  background-color: var(--sklearn-color-fitted-level-0);\n",
              "}\n",
              "\n",
              "/* on hover */\n",
              "#sk-container-id-1 div.sk-estimator:hover {\n",
              "  /* unfitted */\n",
              "  background-color: var(--sklearn-color-unfitted-level-2);\n",
              "}\n",
              "\n",
              "#sk-container-id-1 div.sk-estimator.fitted:hover {\n",
              "  /* fitted */\n",
              "  background-color: var(--sklearn-color-fitted-level-2);\n",
              "}\n",
              "\n",
              "/* Specification for estimator info (e.g. \"i\" and \"?\") */\n",
              "\n",
              "/* Common style for \"i\" and \"?\" */\n",
              "\n",
              ".sk-estimator-doc-link,\n",
              "a:link.sk-estimator-doc-link,\n",
              "a:visited.sk-estimator-doc-link {\n",
              "  float: right;\n",
              "  font-size: smaller;\n",
              "  line-height: 1em;\n",
              "  font-family: monospace;\n",
              "  background-color: var(--sklearn-color-background);\n",
              "  border-radius: 1em;\n",
              "  height: 1em;\n",
              "  width: 1em;\n",
              "  text-decoration: none !important;\n",
              "  margin-left: 0.5em;\n",
              "  text-align: center;\n",
              "  /* unfitted */\n",
              "  border: var(--sklearn-color-unfitted-level-1) 1pt solid;\n",
              "  color: var(--sklearn-color-unfitted-level-1);\n",
              "}\n",
              "\n",
              ".sk-estimator-doc-link.fitted,\n",
              "a:link.sk-estimator-doc-link.fitted,\n",
              "a:visited.sk-estimator-doc-link.fitted {\n",
              "  /* fitted */\n",
              "  border: var(--sklearn-color-fitted-level-1) 1pt solid;\n",
              "  color: var(--sklearn-color-fitted-level-1);\n",
              "}\n",
              "\n",
              "/* On hover */\n",
              "div.sk-estimator:hover .sk-estimator-doc-link:hover,\n",
              ".sk-estimator-doc-link:hover,\n",
              "div.sk-label-container:hover .sk-estimator-doc-link:hover,\n",
              ".sk-estimator-doc-link:hover {\n",
              "  /* unfitted */\n",
              "  background-color: var(--sklearn-color-unfitted-level-3);\n",
              "  color: var(--sklearn-color-background);\n",
              "  text-decoration: none;\n",
              "}\n",
              "\n",
              "div.sk-estimator.fitted:hover .sk-estimator-doc-link.fitted:hover,\n",
              ".sk-estimator-doc-link.fitted:hover,\n",
              "div.sk-label-container:hover .sk-estimator-doc-link.fitted:hover,\n",
              ".sk-estimator-doc-link.fitted:hover {\n",
              "  /* fitted */\n",
              "  background-color: var(--sklearn-color-fitted-level-3);\n",
              "  color: var(--sklearn-color-background);\n",
              "  text-decoration: none;\n",
              "}\n",
              "\n",
              "/* Span, style for the box shown on hovering the info icon */\n",
              ".sk-estimator-doc-link span {\n",
              "  display: none;\n",
              "  z-index: 9999;\n",
              "  position: relative;\n",
              "  font-weight: normal;\n",
              "  right: .2ex;\n",
              "  padding: .5ex;\n",
              "  margin: .5ex;\n",
              "  width: min-content;\n",
              "  min-width: 20ex;\n",
              "  max-width: 50ex;\n",
              "  color: var(--sklearn-color-text);\n",
              "  box-shadow: 2pt 2pt 4pt #999;\n",
              "  /* unfitted */\n",
              "  background: var(--sklearn-color-unfitted-level-0);\n",
              "  border: .5pt solid var(--sklearn-color-unfitted-level-3);\n",
              "}\n",
              "\n",
              ".sk-estimator-doc-link.fitted span {\n",
              "  /* fitted */\n",
              "  background: var(--sklearn-color-fitted-level-0);\n",
              "  border: var(--sklearn-color-fitted-level-3);\n",
              "}\n",
              "\n",
              ".sk-estimator-doc-link:hover span {\n",
              "  display: block;\n",
              "}\n",
              "\n",
              "/* \"?\"-specific style due to the `<a>` HTML tag */\n",
              "\n",
              "#sk-container-id-1 a.estimator_doc_link {\n",
              "  float: right;\n",
              "  font-size: 1rem;\n",
              "  line-height: 1em;\n",
              "  font-family: monospace;\n",
              "  background-color: var(--sklearn-color-background);\n",
              "  border-radius: 1rem;\n",
              "  height: 1rem;\n",
              "  width: 1rem;\n",
              "  text-decoration: none;\n",
              "  /* unfitted */\n",
              "  color: var(--sklearn-color-unfitted-level-1);\n",
              "  border: var(--sklearn-color-unfitted-level-1) 1pt solid;\n",
              "}\n",
              "\n",
              "#sk-container-id-1 a.estimator_doc_link.fitted {\n",
              "  /* fitted */\n",
              "  border: var(--sklearn-color-fitted-level-1) 1pt solid;\n",
              "  color: var(--sklearn-color-fitted-level-1);\n",
              "}\n",
              "\n",
              "/* On hover */\n",
              "#sk-container-id-1 a.estimator_doc_link:hover {\n",
              "  /* unfitted */\n",
              "  background-color: var(--sklearn-color-unfitted-level-3);\n",
              "  color: var(--sklearn-color-background);\n",
              "  text-decoration: none;\n",
              "}\n",
              "\n",
              "#sk-container-id-1 a.estimator_doc_link.fitted:hover {\n",
              "  /* fitted */\n",
              "  background-color: var(--sklearn-color-fitted-level-3);\n",
              "}\n",
              "</style><div id=\"sk-container-id-1\" class=\"sk-top-container\"><div class=\"sk-text-repr-fallback\"><pre>DecisionTreeClassifier()</pre><b>In a Jupyter environment, please rerun this cell to show the HTML representation or trust the notebook. <br />On GitHub, the HTML representation is unable to render, please try loading this page with nbviewer.org.</b></div><div class=\"sk-container\" hidden><div class=\"sk-item\"><div class=\"sk-estimator fitted sk-toggleable\"><input class=\"sk-toggleable__control sk-hidden--visually\" id=\"sk-estimator-id-1\" type=\"checkbox\" checked><label for=\"sk-estimator-id-1\" class=\"sk-toggleable__label fitted sk-toggleable__label-arrow\"><div><div>DecisionTreeClassifier</div></div><div><a class=\"sk-estimator-doc-link fitted\" rel=\"noreferrer\" target=\"_blank\" href=\"https://scikit-learn.org/1.6/modules/generated/sklearn.tree.DecisionTreeClassifier.html\">?<span>Documentation for DecisionTreeClassifier</span></a><span class=\"sk-estimator-doc-link fitted\">i<span>Fitted</span></span></div></label><div class=\"sk-toggleable__content fitted\"><pre>DecisionTreeClassifier()</pre></div> </div></div></div></div>"
            ],
            "text/plain": [
              "DecisionTreeClassifier()"
            ]
          },
          "execution_count": 27,
          "metadata": {},
          "output_type": "execute_result"
        }
      ],
      "source": [
        "# train the model\n",
        "model.fit(x_train, y_train)"
      ]
    },
    {
      "cell_type": "code",
      "execution_count": 28,
      "id": "74014880",
      "metadata": {
        "colab": {
          "base_uri": "https://localhost:8080/"
        },
        "id": "74014880",
        "outputId": "002547a6-8f44-4838-f332-c6ed290756f5"
      },
      "outputs": [
        {
          "name": "stdout",
          "output_type": "stream",
          "text": [
            "The accuracy of the model is: 100.0%\n"
          ]
        }
      ],
      "source": [
        "# evaluate the model on the test set and print the accuracy\n",
        "fert_accuracy = model.score(x_test, y_test)\n",
        "print(f\"The accuracy of the model is: {fert_accuracy*100}%\")"
      ]
    },
    {
      "cell_type": "code",
      "execution_count": 29,
      "id": "1cccc90b",
      "metadata": {
        "colab": {
          "base_uri": "https://localhost:8080/"
        },
        "id": "1cccc90b",
        "outputId": "87b60f6e-87cd-4629-8b86-8fef5c9e3def"
      },
      "outputs": [
        {
          "name": "stdout",
          "output_type": "stream",
          "text": [
            "The accuracy of the model on the training set is: 100.0%\n"
          ]
        }
      ],
      "source": [
        "# evaluate the model on the training set and print the accuracy\n",
        "accuracy = model.score(x_train, y_train)\n",
        "print(f\"The accuracy of the model on the training set is: {accuracy*100:}%\")"
      ]
    },
    {
      "cell_type": "code",
      "execution_count": 30,
      "id": "79f62969",
      "metadata": {
        "id": "79f62969"
      },
      "outputs": [],
      "source": [
        "def fert_prediction(Temparature, Humidity, Moisture, Soil_Type, Crop_Type, Nitrogen, Potassium, Phosphorous):\n",
        "  features = np.array([[Temparature, Humidity, Moisture, Soil_Type, Crop_Type, Nitrogen, Potassium, Phosphorous]])\n",
        "  transformed_features = sc.transform(features)\n",
        "  prediction = model.predict(transformed_features).reshape(1,-1)\n",
        "  fert_dict = {\n",
        "    'Urea' : 1,\n",
        "     'DAP' : 2 ,\n",
        "     '14-35-14' : 3,\n",
        "     '28-28' : 4,\n",
        "     '17-17-17' : 5,\n",
        "     '20-20' : 6,\n",
        "     '10-26-26' : 7\n",
        "  }\n",
        "  fertilizier = [list(fert_dict.keys())[list(fert_dict.values()).index(int(i))] for i in prediction[0]]\n",
        "  return fertilizier\n"
      ]
    },
    {
      "cell_type": "code",
      "execution_count": 31,
      "id": "d059252d",
      "metadata": {
        "colab": {
          "base_uri": "https://localhost:8080/"
        },
        "id": "d059252d",
        "outputId": "abdab226-b1a0-49c6-cde8-5bf8a156f7ee"
      },
      "outputs": [
        {
          "name": "stderr",
          "output_type": "stream",
          "text": [
            "d:\\Education\\Coding\\.conda\\Lib\\site-packages\\sklearn\\utils\\validation.py:2739: UserWarning: X does not have valid feature names, but StandardScaler was fitted with feature names\n",
            "  warnings.warn(\n"
          ]
        },
        {
          "data": {
            "text/plain": [
              "['DAP']"
            ]
          },
          "execution_count": 31,
          "metadata": {},
          "output_type": "execute_result"
        }
      ],
      "source": [
        "\n",
        "Temparature = 36\n",
        "Humidity = 14\n",
        "Moisture = 13\n",
        "Soil_Type = 8\n",
        "Crop_Type = 9\n",
        "Nitrogen = 10\n",
        "Potassium = 111\n",
        "Phosphorous = 297\n",
        "\n",
        "fert_prediction(Temparature, Humidity, Moisture, Soil_Type, Crop_Type, Nitrogen, Potassium, Phosphorous)"
      ]
    },
    {
      "cell_type": "code",
      "execution_count": 32,
      "id": "c0b9050f",
      "metadata": {
        "id": "c0b9050f"
      },
      "outputs": [],
      "source": [
        "import pickle\n",
        "\n",
        "with open('model.pkl', 'wb') as f:\n",
        "    pickle.dump(model, f)\n",
        "\n",
        "with open('scaler.pkl', 'wb') as f:\n",
        "    pickle.dump(sc, f)"
      ]
    }
  ],
  "metadata": {
    "colab": {
      "provenance": []
    },
    "kernelspec": {
      "display_name": ".conda",
      "language": "python",
      "name": "python3"
    },
    "language_info": {
      "codemirror_mode": {
        "name": "ipython",
        "version": 3
      },
      "file_extension": ".py",
      "mimetype": "text/x-python",
      "name": "python",
      "nbconvert_exporter": "python",
      "pygments_lexer": "ipython3",
      "version": "3.11.11"
    }
  },
  "nbformat": 4,
  "nbformat_minor": 5
}
